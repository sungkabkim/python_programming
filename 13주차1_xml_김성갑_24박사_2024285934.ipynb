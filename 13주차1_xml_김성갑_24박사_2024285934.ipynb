{
  "cells": [
    {
      "cell_type": "markdown",
      "metadata": {
        "id": "view-in-github",
        "colab_type": "text"
      },
      "source": [
        "<a href=\"https://colab.research.google.com/github/sungkabkim/python_programming/blob/main/13%EC%A3%BC%EC%B0%A81_xml_%EA%B9%80%EC%84%B1%EA%B0%91_24%EB%B0%95%EC%82%AC_2024285934.ipynb\" target=\"_parent\"><img src=\"https://colab.research.google.com/assets/colab-badge.svg\" alt=\"Open In Colab\"/></a>"
      ]
    },
    {
      "cell_type": "code",
      "execution_count": null,
      "id": "3427ed6e-6c8e-4804-aa3a-1db9f6af3bc8",
      "metadata": {
        "id": "3427ed6e-6c8e-4804-aa3a-1db9f6af3bc8"
      },
      "outputs": [],
      "source": [
        "import xml.etree.ElementTree as ET"
      ]
    },
    {
      "cell_type": "code",
      "execution_count": null,
      "id": "1ae1cc8f-2486-4dfe-8cdb-331ebf730023",
      "metadata": {
        "id": "1ae1cc8f-2486-4dfe-8cdb-331ebf730023",
        "outputId": "c1ef381b-9adc-4ade-910c-346017697ad5"
      },
      "outputs": [
        {
          "name": "stdout",
          "output_type": "stream",
          "text": [
            "Collecting lxml\n",
            "  Downloading lxml-5.4.0-cp313-cp313-win_amd64.whl.metadata (3.6 kB)\n",
            "Downloading lxml-5.4.0-cp313-cp313-win_amd64.whl (3.8 MB)\n",
            "   ---------------------------------------- 0.0/3.8 MB ? eta -:--:--\n",
            "   ----- ---------------------------------- 0.5/3.8 MB 4.0 MB/s eta 0:00:01\n",
            "   ---------- ----------------------------- 1.0/3.8 MB 2.7 MB/s eta 0:00:02\n",
            "   ------------- -------------------------- 1.3/3.8 MB 2.6 MB/s eta 0:00:01\n",
            "   ------------------- -------------------- 1.8/3.8 MB 2.5 MB/s eta 0:00:01\n",
            "   ------------------------ --------------- 2.4/3.8 MB 2.5 MB/s eta 0:00:01\n",
            "   ------------------------------ --------- 2.9/3.8 MB 2.5 MB/s eta 0:00:01\n",
            "   ----------------------------------- ---- 3.4/3.8 MB 2.5 MB/s eta 0:00:01\n",
            "   ---------------------------------------- 3.8/3.8 MB 2.4 MB/s eta 0:00:00\n",
            "Installing collected packages: lxml\n",
            "Successfully installed lxml-5.4.0\n",
            "Note: you may need to restart the kernel to use updated packages.\n"
          ]
        }
      ],
      "source": [
        "pip install lxml"
      ]
    },
    {
      "cell_type": "code",
      "execution_count": null,
      "id": "1d8ba1fa-8f4a-4371-a444-d461e111d8eb",
      "metadata": {
        "id": "1d8ba1fa-8f4a-4371-a444-d461e111d8eb",
        "outputId": "7ad1f70f-2a2b-45f4-ff34-0d6ea01b91f6"
      },
      "outputs": [
        {
          "name": "stdout",
          "output_type": "stream",
          "text": [
            "menu\n"
          ]
        },
        {
          "name": "stderr",
          "output_type": "stream",
          "text": [
            "<>:2: SyntaxWarning: invalid escape sequence '\\d'\n",
            "<>:2: SyntaxWarning: invalid escape sequence '\\d'\n",
            "C:\\Users\\sizip\\AppData\\Local\\Temp\\ipykernel_25344\\96923695.py:2: SyntaxWarning: invalid escape sequence '\\d'\n",
            "  tree = ET.ElementTree(file = 'C:\\data\\menu.xml')\n"
          ]
        }
      ],
      "source": [
        "import xml.etree.ElementTree as ET\n",
        "tree = ET.ElementTree(file = 'C:\\data\\menu.xml')\n",
        "root = tree.getroot()\n",
        "\n",
        "print(root.tag)"
      ]
    },
    {
      "cell_type": "code",
      "execution_count": null,
      "id": "43531101-02aa-4ea4-b960-2e8a3228aac1",
      "metadata": {
        "id": "43531101-02aa-4ea4-b960-2e8a3228aac1",
        "outputId": "f4f39b2b-0d42-4f87-b152-0738b9f559bd"
      },
      "outputs": [
        {
          "name": "stdout",
          "output_type": "stream",
          "text": [
            "tag: breakfast attributes: {'hours': '7-11'}\n",
            "\ttag: item attributes: {'price': '$6.00'}\n",
            "\ttag: item attributes: {'price': '$4.00'}\n",
            "tag: lunch attributes: {'hours': '11-3'}\n",
            "\ttag: item attributes: {'price': '$5.00'}\n",
            "tag: dinner attributes: {'hours': '3-10'}\n",
            "\ttag: item attributes: {'price': '8.00'}\n"
          ]
        }
      ],
      "source": [
        "for child in root:\n",
        "    print('tag:', child.tag, 'attributes:', child.attrib)\n",
        "    for grandchild in child:\n",
        "        print('\\ttag:', grandchild.tag, 'attributes:', grandchild.attrib)\n",
        "# grandchild에 입력하겠음\n",
        "# '\\t는 tab을 들여서 쓰라는 것임"
      ]
    },
    {
      "cell_type": "code",
      "execution_count": null,
      "id": "bd7572c7-0d9f-43e7-bd14-1e276df371fb",
      "metadata": {
        "id": "bd7572c7-0d9f-43e7-bd14-1e276df371fb",
        "outputId": "7643aa95-7144-4a45-fb02-162e885b0bde"
      },
      "outputs": [
        {
          "data": {
            "text/plain": [
              "3"
            ]
          },
          "execution_count": 28,
          "metadata": {},
          "output_type": "execute_result"
        }
      ],
      "source": [
        "len(root)\n",
        "# breakfast, lunch, dinner임으로 3개임"
      ]
    },
    {
      "cell_type": "code",
      "execution_count": null,
      "id": "4038f208-e397-4ebf-be61-6ad9219396aa",
      "metadata": {
        "id": "4038f208-e397-4ebf-be61-6ad9219396aa",
        "outputId": "2e64bc74-1c78-4a35-96c3-6c1c78420264"
      },
      "outputs": [
        {
          "data": {
            "text/plain": [
              "2"
            ]
          },
          "execution_count": 30,
          "metadata": {},
          "output_type": "execute_result"
        }
      ],
      "source": [
        "len(root[0])\n",
        "# tag의 길이가 2개임"
      ]
    },
    {
      "cell_type": "code",
      "execution_count": null,
      "id": "ded00aef-4100-4abb-ab3f-2cd1df1e4256",
      "metadata": {
        "id": "ded00aef-4100-4abb-ab3f-2cd1df1e4256",
        "outputId": "899019bd-beb3-4751-d339-aac43a6bbc80"
      },
      "outputs": [
        {
          "name": "stdout",
          "output_type": "stream",
          "text": [
            "<Element 'breakfast' at 0x000002815C401800>\n"
          ]
        }
      ],
      "source": [
        "print(root[0])"
      ]
    },
    {
      "cell_type": "code",
      "execution_count": null,
      "id": "09d35727-3b24-49e9-b30f-0e9c4a5a7d8d",
      "metadata": {
        "id": "09d35727-3b24-49e9-b30f-0e9c4a5a7d8d",
        "outputId": "9d7be011-9074-4719-a537-e9d8a2e91db5"
      },
      "outputs": [
        {
          "name": "stdout",
          "output_type": "stream",
          "text": [
            "7-11\n"
          ]
        }
      ],
      "source": [
        "print(root[0].get(\"hours\"))"
      ]
    },
    {
      "cell_type": "code",
      "execution_count": null,
      "id": "cda78eb8-edad-4ffc-9bbf-964e1e7f5630",
      "metadata": {
        "id": "cda78eb8-edad-4ffc-9bbf-964e1e7f5630",
        "outputId": "ea916cf3-8b6f-408d-c4fc-41285fd1996e"
      },
      "outputs": [
        {
          "name": "stdout",
          "output_type": "stream",
          "text": [
            "['hours']\n"
          ]
        }
      ],
      "source": [
        "print(root[0].keys())"
      ]
    },
    {
      "cell_type": "code",
      "execution_count": null,
      "id": "397eaff2-d719-41c5-9727-41c3dd49e400",
      "metadata": {
        "id": "397eaff2-d719-41c5-9727-41c3dd49e400",
        "outputId": "75aa601e-5132-4d8a-9669-18246b6d68bd"
      },
      "outputs": [
        {
          "name": "stdout",
          "output_type": "stream",
          "text": [
            "[('hours', '7-11')]\n"
          ]
        }
      ],
      "source": [
        "print(root[0].items())"
      ]
    },
    {
      "cell_type": "code",
      "execution_count": null,
      "id": "6ff6cbff-c87f-438f-99e3-a714a0c06486",
      "metadata": {
        "id": "6ff6cbff-c87f-438f-99e3-a714a0c06486"
      },
      "outputs": [],
      "source": [
        "lunch = root.find(\"lunch\")"
      ]
    },
    {
      "cell_type": "code",
      "execution_count": null,
      "id": "040cdd2e-5f1d-43da-b920-987fbd32f0f2",
      "metadata": {
        "id": "040cdd2e-5f1d-43da-b920-987fbd32f0f2",
        "outputId": "35e71171-1569-46d8-ff71-2e26f543aa36"
      },
      "outputs": [
        {
          "name": "stdout",
          "output_type": "stream",
          "text": [
            "<Element 'lunch' at 0x000002815C4016C0>\n"
          ]
        }
      ],
      "source": [
        "print(lunch)"
      ]
    },
    {
      "cell_type": "code",
      "execution_count": null,
      "id": "ae0e15f6-8134-4a66-9f52-e63c04ae598b",
      "metadata": {
        "id": "ae0e15f6-8134-4a66-9f52-e63c04ae598b",
        "outputId": "1919b360-bc4f-4594-ca3a-593587f701f8"
      },
      "outputs": [
        {
          "name": "stdout",
          "output_type": "stream",
          "text": [
            "11-3\n"
          ]
        }
      ],
      "source": [
        "print(lunch.get(\"hours\"))"
      ]
    },
    {
      "cell_type": "code",
      "execution_count": null,
      "id": "316c148d-fe92-4ec4-a5c0-1747edca24da",
      "metadata": {
        "id": "316c148d-fe92-4ec4-a5c0-1747edca24da",
        "outputId": "b176da32-0fa5-4a69-9600-f4d1081cf1d6"
      },
      "outputs": [
        {
          "name": "stdout",
          "output_type": "stream",
          "text": [
            "['hours']\n"
          ]
        }
      ],
      "source": [
        "print(lunch.keys())"
      ]
    },
    {
      "cell_type": "code",
      "execution_count": null,
      "id": "f8b8a099-8421-4595-a4b8-6dd54a0ad790",
      "metadata": {
        "id": "f8b8a099-8421-4595-a4b8-6dd54a0ad790",
        "outputId": "882fc723-5e04-4819-8fbe-35d891491c24"
      },
      "outputs": [
        {
          "name": "stdout",
          "output_type": "stream",
          "text": [
            "[('hours', '11-3')]\n"
          ]
        }
      ],
      "source": [
        "print(lunch.items())"
      ]
    },
    {
      "cell_type": "code",
      "execution_count": null,
      "id": "1f39a8c3-f42b-4bc9-85f0-c7c47e73a910",
      "metadata": {
        "id": "1f39a8c3-f42b-4bc9-85f0-c7c47e73a910",
        "outputId": "22f9e5bc-75b0-4190-c6dd-55d1bfa90724"
      },
      "outputs": [
        {
          "name": "stdout",
          "output_type": "stream",
          "text": [
            "[<Element 'item' at 0x000002815C401760>, <Element 'item' at 0x000002815C401710>]\n"
          ]
        }
      ],
      "source": [
        "print(root[0].findall('item'))"
      ]
    },
    {
      "cell_type": "code",
      "execution_count": null,
      "id": "c857c44e-9f16-4537-96df-0ed8cfb854c4",
      "metadata": {
        "id": "c857c44e-9f16-4537-96df-0ed8cfb854c4",
        "outputId": "979c91b4-0f47-42bd-da81-503bdc34b2a9"
      },
      "outputs": [
        {
          "name": "stdout",
          "output_type": "stream",
          "text": [
            "[<Element 'item' at 0x000002815C401760>, <Element 'item' at 0x000002815C401710>]\n",
            "$6.00\n",
            "breakfast burritos\n",
            "$4.00\n",
            "pancakes\n"
          ]
        }
      ],
      "source": [
        "print(root[0].findall('item'))\n",
        "\n",
        "for item in root[0].findall('item'):\n",
        "    print(item.get('price'))\n",
        "    print(item.text)"
      ]
    },
    {
      "cell_type": "code",
      "execution_count": null,
      "id": "150ec8f5-6c27-4b84-91a0-37ea3b9a4cd5",
      "metadata": {
        "id": "150ec8f5-6c27-4b84-91a0-37ea3b9a4cd5"
      },
      "outputs": [],
      "source": [
        "# JASON(JavaScript Object Notation)\n",
        "#주로 인터넷에서 자료를 주고 받기 위해 만든 데이터 포맷\n",
        "# key-value (속성-속성값)의 쌍으로 이루어진 데이터로 구성\n",
        "# 본래 자바스크립트 언어에서 파생되어 나왔으나 언어나 플랫폼에 상관없이 쓸 수 있음\n",
        "# 확장자가 .json 인 파일"
      ]
    },
    {
      "cell_type": "code",
      "execution_count": null,
      "id": "5fb225c3-a686-4c41-9bdc-2b7fd58f3e10",
      "metadata": {
        "id": "5fb225c3-a686-4c41-9bdc-2b7fd58f3e10",
        "outputId": "a699b06d-ec35-4efd-9d95-872c07438789"
      },
      "outputs": [
        {
          "data": {
            "text/plain": [
              "{'이름': '홍길동',\n",
              " '나이': 25,\n",
              " '성별': '여',\n",
              " '주소': '서울특별시 양천구 목동',\n",
              " '특기': ['농구', '도술'],\n",
              " '가족관계': {'#': 2, '아버지': '홍판서', '어머니': '춘섬'},\n",
              " '회사': '경기도 수원시 팔달구 우먼동'}"
            ]
          },
          "execution_count": 57,
          "metadata": {},
          "output_type": "execute_result"
        }
      ],
      "source": [
        "{\n",
        "    \"이름\" : \"홍길동\",\n",
        "    \"나이\" : 25,\n",
        "    \"성별\" : \"여\",\n",
        "    \"주소\" : \"서울특별시 양천구 목동\",\n",
        "    \"특기\" : [\"농구\", \"도술\"],\n",
        "    \"가족관계\" : {\"#\": 2, \"아버지\": \"홍판서\", \"어머니\": \"춘섬\"},\n",
        "    \"회사\" : \"경기도 수원시 팔달구 우먼동\"\n",
        "}"
      ]
    },
    {
      "cell_type": "code",
      "execution_count": null,
      "id": "f1827419-a028-4289-8b6c-4f3d5bd598cb",
      "metadata": {
        "id": "f1827419-a028-4289-8b6c-4f3d5bd598cb"
      },
      "outputs": [],
      "source": [
        "import json"
      ]
    },
    {
      "cell_type": "code",
      "execution_count": null,
      "id": "da71f3b4-86dc-4511-97f3-a9ff741af6e0",
      "metadata": {
        "id": "da71f3b4-86dc-4511-97f3-a9ff741af6e0",
        "outputId": "6075ee47-b39e-42fd-89dd-21b43e28efe3"
      },
      "outputs": [
        {
          "name": "stdout",
          "output_type": "stream",
          "text": [
            "Requirement already satisfied: jason in c:\\users\\sizip\\appdata\\local\\programs\\python\\python313\\lib\\site-packages (0.1.7)\n"
          ]
        }
      ],
      "source": [
        "!pip install jason"
      ]
    },
    {
      "cell_type": "code",
      "execution_count": null,
      "id": "48dd0bca-7081-4aad-923c-d622b314cd6a",
      "metadata": {
        "id": "48dd0bca-7081-4aad-923c-d622b314cd6a",
        "outputId": "631d04fd-39ac-4cc6-cd73-2ae4bb94fcf6"
      },
      "outputs": [
        {
          "name": "stdout",
          "output_type": "stream",
          "text": [
            "{\"name\": \"홍길동\", \"birth\": \"0525\", \"age\": 30}\n"
          ]
        }
      ],
      "source": [
        "import json\n",
        "\n",
        "j1 = {'name': '홍길동', 'birth': '0525', 'age': 30}\n",
        "json_str = json.dumps(j1, ensure_ascii=False)\n",
        "print(json_str)"
      ]
    }
  ],
  "metadata": {
    "kernelspec": {
      "display_name": "Python 3 (ipykernel)",
      "language": "python",
      "name": "python3"
    },
    "language_info": {
      "codemirror_mode": {
        "name": "ipython",
        "version": 3
      },
      "file_extension": ".py",
      "mimetype": "text/x-python",
      "name": "python",
      "nbconvert_exporter": "python",
      "pygments_lexer": "ipython3",
      "version": "3.13.2"
    },
    "colab": {
      "provenance": [],
      "include_colab_link": true
    }
  },
  "nbformat": 4,
  "nbformat_minor": 5
}