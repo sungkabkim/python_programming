{
  "cells": [
    {
      "cell_type": "markdown",
      "metadata": {
        "id": "view-in-github",
        "colab_type": "text"
      },
      "source": [
        "<a href=\"https://colab.research.google.com/github/sungkabkim/python_programming/blob/main/Numpy_11%EC%A3%BC%EC%B0%A8_%EA%B9%80%EC%84%B1%EA%B0%9124%EB%B0%95%EC%82%AC_2024285934.ipynb\" target=\"_parent\"><img src=\"https://colab.research.google.com/assets/colab-badge.svg\" alt=\"Open In Colab\"/></a>"
      ]
    },
    {
      "cell_type": "code",
      "execution_count": null,
      "id": "e6bdc8b7-1759-482d-88aa-de1561eefde5",
      "metadata": {
        "id": "e6bdc8b7-1759-482d-88aa-de1561eefde5"
      },
      "outputs": [],
      "source": [
        "# 숙제하기 : Numpy 다음 사이트의 코드를 따라서 코딩"
      ]
    },
    {
      "cell_type": "code",
      "execution_count": null,
      "id": "90e8cd3e-d051-41fa-8d42-fe20bc3613a2",
      "metadata": {
        "id": "90e8cd3e-d051-41fa-8d42-fe20bc3613a2",
        "outputId": "9c63461b-bb82-426b-85f0-94e1ab7819c0"
      },
      "outputs": [
        {
          "name": "stdout",
          "output_type": "stream",
          "text": [
            "Requirement already satisfied: numpy in c:\\users\\sizip\\appdata\\local\\programs\\python\\python313\\lib\\site-packages (2.2.6)\n",
            "Note: you may need to restart the kernel to use updated packages.\n"
          ]
        }
      ],
      "source": [
        "pip install numpy"
      ]
    },
    {
      "cell_type": "code",
      "execution_count": null,
      "id": "307bfe1b-db44-4815-8266-d5e2dd73bd5a",
      "metadata": {
        "id": "307bfe1b-db44-4815-8266-d5e2dd73bd5a",
        "outputId": "de338924-7148-4d64-99c5-7a1e12bfb6fb"
      },
      "outputs": [
        {
          "name": "stdout",
          "output_type": "stream",
          "text": [
            "Requirement already satisfied: numpy in c:\\users\\sizip\\appdata\\local\\programs\\python\\python313\\lib\\site-packages (2.2.6)\n"
          ]
        }
      ],
      "source": [
        "!pip3 install numpy"
      ]
    },
    {
      "cell_type": "code",
      "execution_count": null,
      "id": "afd3ed33-e33d-4970-bce7-b34032d7249d",
      "metadata": {
        "id": "afd3ed33-e33d-4970-bce7-b34032d7249d"
      },
      "outputs": [],
      "source": [
        "import numpy as np\n",
        "a = np.arange(6)"
      ]
    },
    {
      "cell_type": "code",
      "execution_count": null,
      "id": "5f57471c-dd59-4a0f-9ce3-c77fa12dbe8f",
      "metadata": {
        "id": "5f57471c-dd59-4a0f-9ce3-c77fa12dbe8f",
        "outputId": "2b1c06f7-b4c2-4a1e-f5e1-fd12613ea2e4"
      },
      "outputs": [
        {
          "data": {
            "text/plain": [
              "numpy.ndarray"
            ]
          },
          "execution_count": 14,
          "metadata": {},
          "output_type": "execute_result"
        }
      ],
      "source": [
        "type(a)"
      ]
    },
    {
      "cell_type": "code",
      "execution_count": null,
      "id": "b462acf0-61e4-4568-9d27-b185180ba73b",
      "metadata": {
        "id": "b462acf0-61e4-4568-9d27-b185180ba73b",
        "outputId": "99f1d072-5a0c-41c7-dd07-8c4668b9fdab"
      },
      "outputs": [
        {
          "data": {
            "text/plain": [
              "array([0, 1, 2, 3, 4, 5])"
            ]
          },
          "execution_count": 15,
          "metadata": {},
          "output_type": "execute_result"
        }
      ],
      "source": [
        "a"
      ]
    },
    {
      "cell_type": "code",
      "execution_count": null,
      "id": "a3b7f938-60e3-49ee-8bf7-0e15ba66eff4",
      "metadata": {
        "id": "a3b7f938-60e3-49ee-8bf7-0e15ba66eff4"
      },
      "outputs": [],
      "source": [
        "a2 = a[np.newaxis, :]"
      ]
    },
    {
      "cell_type": "code",
      "execution_count": null,
      "id": "db854746-7d16-424b-9124-cb7b8752c450",
      "metadata": {
        "id": "db854746-7d16-424b-9124-cb7b8752c450",
        "outputId": "949415ac-3246-40d6-e722-ce72c95e04c9"
      },
      "outputs": [
        {
          "data": {
            "text/plain": [
              "(1, 6)"
            ]
          },
          "execution_count": 20,
          "metadata": {},
          "output_type": "execute_result"
        }
      ],
      "source": [
        "a2.shape"
      ]
    },
    {
      "cell_type": "code",
      "execution_count": null,
      "id": "0991c676-6863-4ccf-a8c8-17e2831a3ba4",
      "metadata": {
        "id": "0991c676-6863-4ccf-a8c8-17e2831a3ba4",
        "outputId": "12b49513-b29a-478a-e62f-7b3e875f8f73"
      },
      "outputs": [
        {
          "data": {
            "text/plain": [
              "(6,)"
            ]
          },
          "execution_count": 21,
          "metadata": {},
          "output_type": "execute_result"
        }
      ],
      "source": [
        "a.shape"
      ]
    },
    {
      "cell_type": "code",
      "execution_count": null,
      "id": "6326c540-5ef3-4bfe-bd61-bc1e9d271c9f",
      "metadata": {
        "id": "6326c540-5ef3-4bfe-bd61-bc1e9d271c9f"
      },
      "outputs": [],
      "source": [
        "import numpy as np"
      ]
    },
    {
      "cell_type": "code",
      "execution_count": null,
      "id": "8a463603-19fc-4101-9d99-5cd1a54b8a18",
      "metadata": {
        "id": "8a463603-19fc-4101-9d99-5cd1a54b8a18"
      },
      "outputs": [],
      "source": [
        "a = np.array([1, 2, 3])"
      ]
    },
    {
      "cell_type": "code",
      "execution_count": null,
      "id": "35d4f655-fa0d-40e5-91e6-0f64881f78a0",
      "metadata": {
        "id": "35d4f655-fa0d-40e5-91e6-0f64881f78a0",
        "outputId": "571df573-294f-40ed-a1d2-18b3b7105c6c"
      },
      "outputs": [
        {
          "data": {
            "text/plain": [
              "array([1.43522288e-311, 0.00000000e+000])"
            ]
          },
          "execution_count": 42,
          "metadata": {},
          "output_type": "execute_result"
        }
      ],
      "source": [
        "np.empty(2)"
      ]
    },
    {
      "cell_type": "code",
      "execution_count": null,
      "id": "03275f7d-6f7f-4ee6-b9cd-21096c84d673",
      "metadata": {
        "id": "03275f7d-6f7f-4ee6-b9cd-21096c84d673",
        "outputId": "bc3bda55-0355-4ead-8763-f7168256732f"
      },
      "outputs": [
        {
          "data": {
            "text/plain": [
              "array([2, 4, 6])"
            ]
          },
          "execution_count": 48,
          "metadata": {},
          "output_type": "execute_result"
        }
      ],
      "source": [
        "np.arange(2,8,2) #start부터 stop \"직전\"까지 step 간격으로 배열 생성"
      ]
    },
    {
      "cell_type": "code",
      "execution_count": null,
      "id": "48b82ddc-f938-4c50-b302-6ce27b1942d3",
      "metadata": {
        "id": "48b82ddc-f938-4c50-b302-6ce27b1942d3",
        "outputId": "09286773-45ca-4dab-e85e-354ad1194dcb"
      },
      "outputs": [
        {
          "data": {
            "text/plain": [
              "array([ 0. ,  2.5,  5. ,  7.5, 10. ])"
            ]
          },
          "execution_count": 49,
          "metadata": {},
          "output_type": "execute_result"
        }
      ],
      "source": [
        "np.linspace(0, 10, num=5) #start부터 stop까지의 구간을 N개의 동일한 간격으로 나누어 배열을 생성"
      ]
    },
    {
      "cell_type": "code",
      "execution_count": null,
      "id": "c7c9fe47-180c-4bc5-acb6-f5e3b2d7c39f",
      "metadata": {
        "id": "c7c9fe47-180c-4bc5-acb6-f5e3b2d7c39f"
      },
      "outputs": [],
      "source": [
        "a = 1."
      ]
    },
    {
      "cell_type": "code",
      "execution_count": null,
      "id": "d5175222-d883-4662-bc6b-e9470ab8c635",
      "metadata": {
        "id": "d5175222-d883-4662-bc6b-e9470ab8c635",
        "outputId": "747e7648-207c-4a9a-ee12-30c97844a90e"
      },
      "outputs": [
        {
          "data": {
            "text/plain": [
              "1.0"
            ]
          },
          "execution_count": 52,
          "metadata": {},
          "output_type": "execute_result"
        }
      ],
      "source": [
        "a"
      ]
    },
    {
      "cell_type": "code",
      "execution_count": null,
      "id": "537e8029-6286-432e-85f4-6e2120639387",
      "metadata": {
        "id": "537e8029-6286-432e-85f4-6e2120639387",
        "outputId": "f5256224-98a0-4bf9-f58d-f861d5d784d5"
      },
      "outputs": [
        {
          "data": {
            "text/plain": [
              "float"
            ]
          },
          "execution_count": 53,
          "metadata": {},
          "output_type": "execute_result"
        }
      ],
      "source": [
        "type(a)"
      ]
    },
    {
      "cell_type": "code",
      "execution_count": null,
      "id": "2521d20c-c768-445b-bf70-23a1a6253629",
      "metadata": {
        "id": "2521d20c-c768-445b-bf70-23a1a6253629",
        "outputId": "6f2a266b-76dd-42c3-c1c5-eb4a0d11f33e"
      },
      "outputs": [
        {
          "data": {
            "text/plain": [
              "array([1, 1])"
            ]
          },
          "execution_count": 56,
          "metadata": {},
          "output_type": "execute_result"
        }
      ],
      "source": [
        "np.ones(2, dtype=np.int64) #지정한 shape 크기의 배열을 만들고 모든 원소를 1.0으로 채웁니다."
      ]
    },
    {
      "cell_type": "code",
      "execution_count": null,
      "id": "27618176-0322-478a-a20f-f524f8413682",
      "metadata": {
        "id": "27618176-0322-478a-a20f-f524f8413682",
        "outputId": "bd45d475-528c-46ae-937e-5822818f2751"
      },
      "outputs": [
        {
          "data": {
            "text/plain": [
              "array([1., 1.])"
            ]
          },
          "execution_count": 57,
          "metadata": {},
          "output_type": "execute_result"
        }
      ],
      "source": [
        "np.ones(2)"
      ]
    },
    {
      "cell_type": "code",
      "execution_count": null,
      "id": "701e6dd9-cc00-4e5d-9886-24e3e7d16df5",
      "metadata": {
        "id": "701e6dd9-cc00-4e5d-9886-24e3e7d16df5",
        "outputId": "a1b45486-0433-4341-e7bf-6283f266a8e6"
      },
      "outputs": [
        {
          "data": {
            "text/plain": [
              "array([2, 1, 5, 3, 7, 4, 6, 8])"
            ]
          },
          "execution_count": 63,
          "metadata": {},
          "output_type": "execute_result"
        }
      ],
      "source": [
        "arr = np.array([2, 1, 5, 3, 7, 4, 6, 8])\n",
        "arr"
      ]
    },
    {
      "cell_type": "raw",
      "id": "15bf6045-eda2-4595-8e05-98d56d8c5dd7",
      "metadata": {
        "id": "15bf6045-eda2-4595-8e05-98d56d8c5dd7"
      },
      "source": [
        "arr = np.sort(arr)"
      ]
    },
    {
      "cell_type": "code",
      "execution_count": null,
      "id": "1457ae5e-2745-44e9-b2c6-aa4838e8be88",
      "metadata": {
        "id": "1457ae5e-2745-44e9-b2c6-aa4838e8be88"
      },
      "outputs": [],
      "source": [
        "a = np.array([1, 2, 3, 4])\n",
        "b = np.array([5, 6, 7, 8])"
      ]
    },
    {
      "cell_type": "code",
      "execution_count": null,
      "id": "b9989f3c-918a-41b3-8a9d-336a438fe24c",
      "metadata": {
        "id": "b9989f3c-918a-41b3-8a9d-336a438fe24c",
        "outputId": "b32892c5-76a3-4393-a424-133a7dc7586b"
      },
      "outputs": [
        {
          "data": {
            "text/plain": [
              "array([1, 2, 3, 4, 5, 6, 7, 8])"
            ]
          },
          "execution_count": 64,
          "metadata": {},
          "output_type": "execute_result"
        }
      ],
      "source": [
        "np.concatenate([a, b])"
      ]
    },
    {
      "cell_type": "code",
      "execution_count": null,
      "id": "43c0349c-1b4c-4af0-b054-ed1849fdc943",
      "metadata": {
        "id": "43c0349c-1b4c-4af0-b054-ed1849fdc943"
      },
      "outputs": [],
      "source": [
        "x = np.array([[1, 2], [3, 4]])\n",
        "y = np.array([[5, 6]])"
      ]
    },
    {
      "cell_type": "code",
      "execution_count": null,
      "id": "29608f1d-67fc-433f-b38b-86d18999f345",
      "metadata": {
        "id": "29608f1d-67fc-433f-b38b-86d18999f345",
        "outputId": "4b9cf385-d1fd-4619-9402-abed92c7ee43"
      },
      "outputs": [
        {
          "data": {
            "text/plain": [
              "array([[1, 2],\n",
              "       [3, 4]])"
            ]
          },
          "execution_count": 73,
          "metadata": {},
          "output_type": "execute_result"
        }
      ],
      "source": [
        "x"
      ]
    },
    {
      "cell_type": "code",
      "execution_count": null,
      "id": "a439d453-0fa4-4c61-aa14-dd6309258e8c",
      "metadata": {
        "id": "a439d453-0fa4-4c61-aa14-dd6309258e8c",
        "outputId": "a3bda5cb-0120-4c0e-e70d-f46739518d00"
      },
      "outputs": [
        {
          "data": {
            "text/plain": [
              "array([[5, 6]])"
            ]
          },
          "execution_count": 74,
          "metadata": {},
          "output_type": "execute_result"
        }
      ],
      "source": [
        "y"
      ]
    },
    {
      "cell_type": "code",
      "execution_count": null,
      "id": "ccbb6b9b-920d-4232-b3b0-9c3b9d2ae732",
      "metadata": {
        "id": "ccbb6b9b-920d-4232-b3b0-9c3b9d2ae732",
        "outputId": "814601e8-a7a0-4c85-bc49-b9446084ffff"
      },
      "outputs": [
        {
          "data": {
            "text/plain": [
              "array([[1, 2],\n",
              "       [3, 4],\n",
              "       [5, 6]])"
            ]
          },
          "execution_count": 76,
          "metadata": {},
          "output_type": "execute_result"
        }
      ],
      "source": [
        "np.concatenate((x, y), axis=0)"
      ]
    },
    {
      "cell_type": "code",
      "execution_count": null,
      "id": "6339f010-1a8a-47c9-adc8-304559f77be5",
      "metadata": {
        "id": "6339f010-1a8a-47c9-adc8-304559f77be5",
        "outputId": "817d03b3-83cb-438b-c89f-ff3db85c3495"
      },
      "outputs": [
        {
          "data": {
            "text/plain": [
              "array([[ 1,  2,  3,  4],\n",
              "       [ 5,  6,  7,  8],\n",
              "       [ 9, 10, 11, 12]])"
            ]
          },
          "execution_count": 35,
          "metadata": {},
          "output_type": "execute_result"
        }
      ],
      "source": [
        "a = np.array([[1, 2, 3, 4], [5, 6, 7, 8], [9, 10, 11, 12]])\n",
        "a"
      ]
    },
    {
      "cell_type": "code",
      "execution_count": null,
      "id": "c10a5a38-bd64-46e6-a9f5-0d8a29f06e57",
      "metadata": {
        "id": "c10a5a38-bd64-46e6-a9f5-0d8a29f06e57",
        "outputId": "dbdadbb4-903a-462c-f8b0-f6cae4540a54"
      },
      "outputs": [
        {
          "data": {
            "text/plain": [
              "array([1, 2, 3, 4])"
            ]
          },
          "execution_count": 26,
          "metadata": {},
          "output_type": "execute_result"
        }
      ],
      "source": [
        "a[0]"
      ]
    },
    {
      "cell_type": "code",
      "execution_count": null,
      "id": "3b7c0110-3b70-4446-bb90-beba1199494a",
      "metadata": {
        "id": "3b7c0110-3b70-4446-bb90-beba1199494a",
        "outputId": "d2bab421-846f-47ae-85f9-6c2bc7b09d6c"
      },
      "outputs": [
        {
          "data": {
            "text/plain": [
              "array([ 9, 10, 11, 12])"
            ]
          },
          "execution_count": 28,
          "metadata": {},
          "output_type": "execute_result"
        }
      ],
      "source": [
        "a[2]"
      ]
    },
    {
      "cell_type": "code",
      "execution_count": null,
      "id": "6390a854-ff57-4812-bd11-5adf7f5dcafd",
      "metadata": {
        "id": "6390a854-ff57-4812-bd11-5adf7f5dcafd",
        "outputId": "f332797a-aa48-46ae-b14f-70641f46ac84"
      },
      "outputs": [
        {
          "data": {
            "text/plain": [
              "np.int64(8)"
            ]
          },
          "execution_count": 29,
          "metadata": {},
          "output_type": "execute_result"
        }
      ],
      "source": [
        "a[1, 3]"
      ]
    },
    {
      "cell_type": "code",
      "execution_count": null,
      "id": "1a398e9f-dea5-4e60-9fe0-eafbc518c60b",
      "metadata": {
        "id": "1a398e9f-dea5-4e60-9fe0-eafbc518c60b"
      },
      "outputs": [],
      "source": [
        "array_example = np.array([[[0, 1, 2, 3],\n",
        "                           [4, 5, 6, 7]],\n",
        "\n",
        "                          [[0, 1, 2, 3],\n",
        "                           [4, 5, 6, 7]],\n",
        "\n",
        "                          [[0 ,1 ,2, 3],\n",
        "                           [4, 5, 6, 7]]])\n",
        "# (depth, rows, columns) 형태"
      ]
    },
    {
      "cell_type": "code",
      "execution_count": null,
      "id": "ee79efd6-af12-45a2-a6e8-f91ef63ffce1",
      "metadata": {
        "id": "ee79efd6-af12-45a2-a6e8-f91ef63ffce1",
        "outputId": "a336f143-9466-420a-b37a-9da81be25ae0"
      },
      "outputs": [
        {
          "data": {
            "text/plain": [
              "array([[[0, 1, 2, 3],\n",
              "        [4, 5, 6, 7]],\n",
              "\n",
              "       [[0, 1, 2, 3],\n",
              "        [4, 5, 6, 7]],\n",
              "\n",
              "       [[0, 1, 2, 3],\n",
              "        [4, 5, 6, 7]]])"
            ]
          },
          "execution_count": 81,
          "metadata": {},
          "output_type": "execute_result"
        }
      ],
      "source": [
        "array_example"
      ]
    },
    {
      "cell_type": "code",
      "execution_count": null,
      "id": "0709d7fb-203d-43ad-b4d2-4b3397018b1d",
      "metadata": {
        "id": "0709d7fb-203d-43ad-b4d2-4b3397018b1d",
        "outputId": "0eb445cc-2c4d-48ce-d41a-d9f1e0a339b2"
      },
      "outputs": [
        {
          "data": {
            "text/plain": [
              "3"
            ]
          },
          "execution_count": 84,
          "metadata": {},
          "output_type": "execute_result"
        }
      ],
      "source": [
        "array_example.ndim # To find the number of dimensions of the array"
      ]
    },
    {
      "cell_type": "code",
      "execution_count": null,
      "id": "393dc9df-8422-415c-80f0-2712a197a15b",
      "metadata": {
        "id": "393dc9df-8422-415c-80f0-2712a197a15b",
        "outputId": "85714044-0a11-45af-eba0-7d6e2b92aa2f"
      },
      "outputs": [
        {
          "data": {
            "text/plain": [
              "24"
            ]
          },
          "execution_count": 89,
          "metadata": {},
          "output_type": "execute_result"
        }
      ],
      "source": [
        "array_example.size # To find the total number of elements in the array"
      ]
    },
    {
      "cell_type": "code",
      "execution_count": null,
      "id": "b93485b6-83c4-4d6a-aa7f-83dd42fae913",
      "metadata": {
        "id": "b93485b6-83c4-4d6a-aa7f-83dd42fae913",
        "outputId": "8813b84b-a782-483d-c3a4-cb8eb0970d04"
      },
      "outputs": [
        {
          "data": {
            "text/plain": [
              "(3, 2, 4)"
            ]
          },
          "execution_count": 90,
          "metadata": {},
          "output_type": "execute_result"
        }
      ],
      "source": [
        "array_example.shape # To find the shape of your array"
      ]
    },
    {
      "cell_type": "code",
      "execution_count": null,
      "id": "b49e81a8-299d-40f1-8f71-2c0fbdf4adc2",
      "metadata": {
        "id": "b49e81a8-299d-40f1-8f71-2c0fbdf4adc2"
      },
      "outputs": [],
      "source": [
        "a = np.arange(6)"
      ]
    },
    {
      "cell_type": "code",
      "execution_count": null,
      "id": "bea729ad-0e1b-406e-ab40-4a8401dd49e3",
      "metadata": {
        "id": "bea729ad-0e1b-406e-ab40-4a8401dd49e3",
        "outputId": "f28d552b-3649-4e3f-ae9f-486c33118be5"
      },
      "outputs": [
        {
          "name": "stdout",
          "output_type": "stream",
          "text": [
            "[0 1 2 3 4 5]\n"
          ]
        }
      ],
      "source": [
        "print(a)"
      ]
    },
    {
      "cell_type": "code",
      "execution_count": null,
      "id": "6dff669f-91c0-4c6e-80f0-00b545ba812e",
      "metadata": {
        "id": "6dff669f-91c0-4c6e-80f0-00b545ba812e",
        "outputId": "2f45dc5e-141c-4618-d996-a8076ed22367"
      },
      "outputs": [
        {
          "data": {
            "text/plain": [
              "array([[0, 1, 2],\n",
              "       [3, 4, 5]])"
            ]
          },
          "execution_count": 97,
          "metadata": {},
          "output_type": "execute_result"
        }
      ],
      "source": [
        "a.reshape(2, 3)"
      ]
    },
    {
      "cell_type": "code",
      "execution_count": null,
      "id": "048943e7-6c5d-4bca-bdd5-55ac5ccd84b8",
      "metadata": {
        "id": "048943e7-6c5d-4bca-bdd5-55ac5ccd84b8",
        "outputId": "8d1f9103-f8ba-4d88-a156-975f0d8679ec"
      },
      "outputs": [
        {
          "data": {
            "text/plain": [
              "array([[0],\n",
              "       [1],\n",
              "       [2],\n",
              "       [3],\n",
              "       [4],\n",
              "       [5]])"
            ]
          },
          "execution_count": 98,
          "metadata": {},
          "output_type": "execute_result"
        }
      ],
      "source": [
        "a.reshape(6, 1)"
      ]
    },
    {
      "cell_type": "code",
      "execution_count": null,
      "id": "0d9fd411-5b7d-487d-9bd0-6a8fe54d205b",
      "metadata": {
        "id": "0d9fd411-5b7d-487d-9bd0-6a8fe54d205b",
        "outputId": "44ef17d0-19d5-4cb9-bf61-3ff6cecdb619"
      },
      "outputs": [
        {
          "name": "stderr",
          "output_type": "stream",
          "text": [
            "C:\\Users\\sizip\\AppData\\Local\\Temp\\ipykernel_780\\1026200341.py:1: DeprecationWarning: `newshape` keyword argument is deprecated, use `shape=...` or pass shape positionally instead. (deprecated in NumPy 2.1)\n",
            "  np.reshape(a, newshape=(1, 6), order='C')\n"
          ]
        },
        {
          "data": {
            "text/plain": [
              "array([[0, 1, 2, 3, 4, 5]])"
            ]
          },
          "execution_count": 103,
          "metadata": {},
          "output_type": "execute_result"
        }
      ],
      "source": [
        "np.reshape(a, newshape=(1, 6), order='C')"
      ]
    },
    {
      "cell_type": "code",
      "execution_count": null,
      "id": "68800e85-ad59-4bf7-b796-e60064d28b96",
      "metadata": {
        "id": "68800e85-ad59-4bf7-b796-e60064d28b96",
        "outputId": "578c38f2-804f-4d0a-fc72-c307d84b6622"
      },
      "outputs": [
        {
          "data": {
            "text/plain": [
              "array([0, 1, 2, 3, 4, 5])"
            ]
          },
          "execution_count": 104,
          "metadata": {},
          "output_type": "execute_result"
        }
      ],
      "source": [
        "a"
      ]
    },
    {
      "cell_type": "code",
      "execution_count": null,
      "id": "d9a0cfe0-6653-488a-93cd-11d9a29b10d2",
      "metadata": {
        "id": "d9a0cfe0-6653-488a-93cd-11d9a29b10d2",
        "outputId": "49d56487-7ea7-4503-dd30-1de706404f32"
      },
      "outputs": [
        {
          "data": {
            "text/plain": [
              "(6,)"
            ]
          },
          "execution_count": 105,
          "metadata": {},
          "output_type": "execute_result"
        }
      ],
      "source": [
        "a.shape"
      ]
    },
    {
      "cell_type": "code",
      "execution_count": null,
      "id": "df46e65f-11d6-49bc-ab37-2c64daa3e1c7",
      "metadata": {
        "id": "df46e65f-11d6-49bc-ab37-2c64daa3e1c7"
      },
      "outputs": [],
      "source": [
        "a2 = a[np.newaxis, :]"
      ]
    },
    {
      "cell_type": "code",
      "execution_count": null,
      "id": "c7c39366-b3f2-4450-ae3a-8ff8ee315dc2",
      "metadata": {
        "id": "c7c39366-b3f2-4450-ae3a-8ff8ee315dc2",
        "outputId": "9ec2c468-56c1-40da-c6ca-c6af178391c0"
      },
      "outputs": [
        {
          "data": {
            "text/plain": [
              "(1, 6)"
            ]
          },
          "execution_count": 108,
          "metadata": {},
          "output_type": "execute_result"
        }
      ],
      "source": [
        "a2.shape"
      ]
    },
    {
      "cell_type": "code",
      "execution_count": null,
      "id": "46f80e3b-67e0-4789-8f45-2092f394a3bb",
      "metadata": {
        "id": "46f80e3b-67e0-4789-8f45-2092f394a3bb",
        "outputId": "c1e3d55a-b60f-4a0d-85c5-099398e568fd"
      },
      "outputs": [
        {
          "data": {
            "text/plain": [
              "array([[0, 1, 2, 3, 4, 5]])"
            ]
          },
          "execution_count": 109,
          "metadata": {},
          "output_type": "execute_result"
        }
      ],
      "source": [
        "a2"
      ]
    },
    {
      "cell_type": "code",
      "execution_count": null,
      "id": "f142124b-a50d-4cef-bd75-e606a0fc24a0",
      "metadata": {
        "id": "f142124b-a50d-4cef-bd75-e606a0fc24a0"
      },
      "outputs": [],
      "source": [
        "row_vector = a[np.newaxis, :]"
      ]
    },
    {
      "cell_type": "code",
      "execution_count": null,
      "id": "c60a8aac-1ad9-4f80-9e7d-0a6fef5d5270",
      "metadata": {
        "id": "c60a8aac-1ad9-4f80-9e7d-0a6fef5d5270",
        "outputId": "534224e3-a8b8-4970-a36f-1a5afdbf4d60"
      },
      "outputs": [
        {
          "data": {
            "text/plain": [
              "(1, 6)"
            ]
          },
          "execution_count": 113,
          "metadata": {},
          "output_type": "execute_result"
        }
      ],
      "source": [
        "row_vector.shape"
      ]
    },
    {
      "cell_type": "code",
      "execution_count": null,
      "id": "68967d1e-4613-4138-b55d-49e1feef898b",
      "metadata": {
        "id": "68967d1e-4613-4138-b55d-49e1feef898b"
      },
      "outputs": [],
      "source": [
        "# indexing and slicing"
      ]
    },
    {
      "cell_type": "code",
      "execution_count": null,
      "id": "bc261afe-7f25-4021-9e49-7734eaffdff9",
      "metadata": {
        "id": "bc261afe-7f25-4021-9e49-7734eaffdff9"
      },
      "outputs": [],
      "source": [
        "import numpy as np"
      ]
    },
    {
      "cell_type": "code",
      "execution_count": null,
      "id": "62ad5ce3-4686-46ca-8f43-7f45d12df2e1",
      "metadata": {
        "id": "62ad5ce3-4686-46ca-8f43-7f45d12df2e1"
      },
      "outputs": [],
      "source": [
        "data = np.array([1, 2, 3])"
      ]
    },
    {
      "cell_type": "code",
      "execution_count": null,
      "id": "0550c09d-54f4-448b-af37-5e5dff254578",
      "metadata": {
        "id": "0550c09d-54f4-448b-af37-5e5dff254578",
        "outputId": "bbc33849-948b-4d61-a1e7-2ad34c8c3be1"
      },
      "outputs": [
        {
          "data": {
            "text/plain": [
              "array([1, 2, 3])"
            ]
          },
          "execution_count": 122,
          "metadata": {},
          "output_type": "execute_result"
        }
      ],
      "source": [
        "data"
      ]
    },
    {
      "cell_type": "code",
      "execution_count": null,
      "id": "a776839e-592e-4a78-88d6-3ce296f9e3e8",
      "metadata": {
        "id": "a776839e-592e-4a78-88d6-3ce296f9e3e8",
        "outputId": "c8baea90-2bc2-4720-b9ad-b14913da805d"
      },
      "outputs": [
        {
          "data": {
            "text/plain": [
              "array([2, 3])"
            ]
          },
          "execution_count": 123,
          "metadata": {},
          "output_type": "execute_result"
        }
      ],
      "source": [
        "data[1:]"
      ]
    },
    {
      "cell_type": "code",
      "execution_count": null,
      "id": "791ce4a6-becd-4f1d-a975-facc0842740a",
      "metadata": {
        "id": "791ce4a6-becd-4f1d-a975-facc0842740a",
        "outputId": "f877b664-ac52-4194-950f-38260afcfee6"
      },
      "outputs": [
        {
          "data": {
            "text/plain": [
              "array([2, 3])"
            ]
          },
          "execution_count": 125,
          "metadata": {},
          "output_type": "execute_result"
        }
      ],
      "source": [
        "data[-2:] # 끝에서 두 번째부터 끝까지"
      ]
    },
    {
      "cell_type": "code",
      "execution_count": null,
      "id": "dad76849-a13d-40fe-8ef8-13893cc1e60e",
      "metadata": {
        "id": "dad76849-a13d-40fe-8ef8-13893cc1e60e"
      },
      "outputs": [],
      "source": [
        "a = np.array([[1 , 2, 3, 4], [5, 6, 7, 8], [9, 10, 11, 12]])"
      ]
    },
    {
      "cell_type": "code",
      "execution_count": null,
      "id": "2006272f-4f20-45c7-b6fc-28902a23d396",
      "metadata": {
        "id": "2006272f-4f20-45c7-b6fc-28902a23d396",
        "outputId": "0fe7047e-1e8a-4fb0-fe29-da9b0ca27cd5"
      },
      "outputs": [
        {
          "data": {
            "text/plain": [
              "array([[ 1,  2,  3,  4],\n",
              "       [ 5,  6,  7,  8],\n",
              "       [ 9, 10, 11, 12]])"
            ]
          },
          "execution_count": 127,
          "metadata": {},
          "output_type": "execute_result"
        }
      ],
      "source": [
        "a"
      ]
    },
    {
      "cell_type": "code",
      "execution_count": null,
      "id": "3d7d3aea-ddc7-4362-865c-68369a5a61ad",
      "metadata": {
        "id": "3d7d3aea-ddc7-4362-865c-68369a5a61ad",
        "outputId": "e2078207-5681-4928-ed49-88d83bd4cfe8"
      },
      "outputs": [
        {
          "data": {
            "text/plain": [
              "array([1, 2, 3, 4])"
            ]
          },
          "execution_count": 136,
          "metadata": {},
          "output_type": "execute_result"
        }
      ],
      "source": [
        "a[a < 5] #true인것만 가져오면 됨"
      ]
    },
    {
      "cell_type": "code",
      "execution_count": null,
      "id": "6d807456-52cb-49e5-aa3a-93c0b2f2a424",
      "metadata": {
        "id": "6d807456-52cb-49e5-aa3a-93c0b2f2a424",
        "outputId": "be633cc8-b1c0-4044-beb6-d327652cb6e3"
      },
      "outputs": [
        {
          "name": "stdout",
          "output_type": "stream",
          "text": [
            "[[ True  True  True  True]\n",
            " [False False False False]\n",
            " [False False False False]]\n"
          ]
        }
      ],
      "source": [
        "print(a < 5)"
      ]
    },
    {
      "cell_type": "code",
      "execution_count": null,
      "id": "460ebe08-f277-45d3-82a8-f695f8ef9811",
      "metadata": {
        "id": "460ebe08-f277-45d3-82a8-f695f8ef9811"
      },
      "outputs": [],
      "source": [
        "b = 2"
      ]
    },
    {
      "cell_type": "code",
      "execution_count": null,
      "id": "8904fd91-296e-4436-b88f-d1511efc45f8",
      "metadata": {
        "id": "8904fd91-296e-4436-b88f-d1511efc45f8",
        "outputId": "9d8212e8-47dc-47d8-bcb1-122c7c9901b7"
      },
      "outputs": [
        {
          "name": "stdout",
          "output_type": "stream",
          "text": [
            "좋아요\n"
          ]
        }
      ],
      "source": [
        "if b > 5 :\n",
        "    print(\"에구 너무 큰데요\")\n",
        "else:\n",
        "    print(\"좋아요\")"
      ]
    },
    {
      "cell_type": "code",
      "execution_count": null,
      "id": "101d4b65-bed4-41f8-8871-842ab3efca16",
      "metadata": {
        "id": "101d4b65-bed4-41f8-8871-842ab3efca16",
        "outputId": "02b128f7-1f67-4be0-95e9-8568c2ed4753"
      },
      "outputs": [
        {
          "data": {
            "text/plain": [
              "False"
            ]
          },
          "execution_count": 135,
          "metadata": {},
          "output_type": "execute_result"
        }
      ],
      "source": [
        "b > 5"
      ]
    },
    {
      "cell_type": "code",
      "execution_count": null,
      "id": "0c7578e9-cc76-456d-be93-d0f864b3777e",
      "metadata": {
        "id": "0c7578e9-cc76-456d-be93-d0f864b3777e",
        "outputId": "3cf410b5-72c9-4c21-c561-0e97142a8b86"
      },
      "outputs": [
        {
          "data": {
            "text/plain": [
              "array([ 5,  6,  7,  8,  9, 10, 11, 12])"
            ]
          },
          "execution_count": 137,
          "metadata": {},
          "output_type": "execute_result"
        }
      ],
      "source": [
        "a[a >= 5]"
      ]
    },
    {
      "cell_type": "code",
      "execution_count": null,
      "id": "8eeaa927-fb82-4df9-8045-41d68d040cab",
      "metadata": {
        "id": "8eeaa927-fb82-4df9-8045-41d68d040cab",
        "outputId": "f656f8e4-e6fb-4f2d-9df3-9e014ebd94f0"
      },
      "outputs": [
        {
          "data": {
            "text/plain": [
              "array([[False,  True, False,  True],\n",
              "       [False,  True, False,  True],\n",
              "       [False,  True, False,  True]])"
            ]
          },
          "execution_count": 140,
          "metadata": {},
          "output_type": "execute_result"
        }
      ],
      "source": [
        "a%2==0"
      ]
    },
    {
      "cell_type": "code",
      "execution_count": null,
      "id": "ccebdc12-2962-4a99-ba26-a84bc0c2e28c",
      "metadata": {
        "id": "ccebdc12-2962-4a99-ba26-a84bc0c2e28c",
        "outputId": "ff823fd8-41c1-40ac-df0c-340593bc8e2b"
      },
      "outputs": [
        {
          "data": {
            "text/plain": [
              "array([ 2,  4,  6,  8, 10, 12])"
            ]
          },
          "execution_count": 141,
          "metadata": {},
          "output_type": "execute_result"
        }
      ],
      "source": [
        "a[a%2==0]"
      ]
    },
    {
      "cell_type": "code",
      "execution_count": null,
      "id": "003f856b-238d-405e-b57b-bc77cadebaf4",
      "metadata": {
        "id": "003f856b-238d-405e-b57b-bc77cadebaf4",
        "outputId": "a5716de4-c630-4369-d0ff-9a9ce3313cef"
      },
      "outputs": [
        {
          "data": {
            "text/plain": [
              "array([ 3,  4,  5,  6,  7,  8,  9, 10])"
            ]
          },
          "execution_count": 143,
          "metadata": {},
          "output_type": "execute_result"
        }
      ],
      "source": [
        "a[(a > 2) & (a < 11)]"
      ]
    },
    {
      "cell_type": "code",
      "execution_count": null,
      "id": "7f3df4f7-6076-4ea8-9c58-bdb5eb48966c",
      "metadata": {
        "id": "7f3df4f7-6076-4ea8-9c58-bdb5eb48966c"
      },
      "outputs": [],
      "source": [
        "b = np.nonzero(a < 5)"
      ]
    },
    {
      "cell_type": "code",
      "execution_count": null,
      "id": "1905d7be-cd38-4610-abd5-ba574c0601da",
      "metadata": {
        "id": "1905d7be-cd38-4610-abd5-ba574c0601da",
        "outputId": "d57bc9c9-c6b7-45a8-d19a-c5a626a440e6"
      },
      "outputs": [
        {
          "data": {
            "text/plain": [
              "(array([0, 0, 0, 0]), array([0, 1, 2, 3]))"
            ]
          },
          "execution_count": 155,
          "metadata": {},
          "output_type": "execute_result"
        }
      ],
      "source": [
        "b"
      ]
    },
    {
      "cell_type": "code",
      "execution_count": null,
      "id": "d88be902-db8d-43e4-a178-4c9891f95298",
      "metadata": {
        "id": "d88be902-db8d-43e4-a178-4c9891f95298",
        "outputId": "7fa37c4a-dad1-43e7-8f96-1059c21e2274"
      },
      "outputs": [
        {
          "name": "stdout",
          "output_type": "stream",
          "text": [
            "[(np.int64(0), np.int64(0)), (np.int64(0), np.int64(1)), (np.int64(0), np.int64(2)), (np.int64(0), np.int64(3))]\n"
          ]
        }
      ],
      "source": [
        "print(list(zip(b[0], b[1])))"
      ]
    },
    {
      "cell_type": "code",
      "execution_count": null,
      "id": "b9eb023a-31a2-423b-bf92-0ab934e08dfd",
      "metadata": {
        "id": "b9eb023a-31a2-423b-bf92-0ab934e08dfd"
      },
      "outputs": [],
      "source": [
        "a = np.array([1, 2, 3, 4, 5, 6, 7, 8, 9, 10])"
      ]
    },
    {
      "cell_type": "code",
      "execution_count": null,
      "id": "bf7b0d15-eaa3-4c18-80b8-2fdef16928be",
      "metadata": {
        "id": "bf7b0d15-eaa3-4c18-80b8-2fdef16928be"
      },
      "outputs": [],
      "source": [
        "arr1 = a[3:8]"
      ]
    },
    {
      "cell_type": "code",
      "execution_count": null,
      "id": "5ce32336-59f4-418c-838d-407a9cf1f157",
      "metadata": {
        "id": "5ce32336-59f4-418c-838d-407a9cf1f157",
        "outputId": "c54c6536-55af-458a-8024-cbb565d63091"
      },
      "outputs": [
        {
          "data": {
            "text/plain": [
              "array([4, 5, 6, 7, 8])"
            ]
          },
          "execution_count": 163,
          "metadata": {},
          "output_type": "execute_result"
        }
      ],
      "source": [
        "arr1"
      ]
    },
    {
      "cell_type": "code",
      "execution_count": null,
      "id": "a39f6fa9-0886-439e-bf98-d790ffb0cce7",
      "metadata": {
        "id": "a39f6fa9-0886-439e-bf98-d790ffb0cce7"
      },
      "outputs": [],
      "source": [
        "a1 = np.array([[1, 1],\n",
        "               [2, 2]])"
      ]
    },
    {
      "cell_type": "code",
      "execution_count": null,
      "id": "a7dbfd07-b585-4a70-bd93-4d045390c3ef",
      "metadata": {
        "id": "a7dbfd07-b585-4a70-bd93-4d045390c3ef",
        "outputId": "d0c25891-7d99-4104-da88-2f37e574a145"
      },
      "outputs": [
        {
          "data": {
            "text/plain": [
              "array([[1, 1],\n",
              "       [2, 2]])"
            ]
          },
          "execution_count": 167,
          "metadata": {},
          "output_type": "execute_result"
        }
      ],
      "source": [
        "a1"
      ]
    },
    {
      "cell_type": "code",
      "execution_count": null,
      "id": "792f273c-18a3-48a7-886f-6a8449c03dc6",
      "metadata": {
        "id": "792f273c-18a3-48a7-886f-6a8449c03dc6",
        "outputId": "0824c132-fa5e-4cea-a736-74666531eb7d"
      },
      "outputs": [
        {
          "data": {
            "text/plain": [
              "array([[0, 1, 2, 3, 4, 5]])"
            ]
          },
          "execution_count": 168,
          "metadata": {},
          "output_type": "execute_result"
        }
      ],
      "source": [
        "a2"
      ]
    },
    {
      "cell_type": "code",
      "execution_count": null,
      "id": "c76fde3b-962e-42b1-be64-8462d77ad733",
      "metadata": {
        "id": "c76fde3b-962e-42b1-be64-8462d77ad733"
      },
      "outputs": [],
      "source": [
        "a2 = np.array([[3, 4],\n",
        "               [4, 4]])"
      ]
    },
    {
      "cell_type": "code",
      "execution_count": null,
      "id": "99c547a2-2df2-4a90-86bf-7b793a47d396",
      "metadata": {
        "id": "99c547a2-2df2-4a90-86bf-7b793a47d396",
        "outputId": "fbd264d1-5531-4e23-dc45-5846d7879481"
      },
      "outputs": [
        {
          "data": {
            "text/plain": [
              "array([[3, 4],\n",
              "       [4, 4]])"
            ]
          },
          "execution_count": 170,
          "metadata": {},
          "output_type": "execute_result"
        }
      ],
      "source": [
        "a2"
      ]
    },
    {
      "cell_type": "code",
      "execution_count": null,
      "id": "ae7a5db0-c2f0-475c-ac9c-9682d036f1bf",
      "metadata": {
        "id": "ae7a5db0-c2f0-475c-ac9c-9682d036f1bf",
        "outputId": "b5a75561-72a7-4a9a-bbc4-b880c74b635a"
      },
      "outputs": [
        {
          "data": {
            "text/plain": [
              "array([[1, 1],\n",
              "       [2, 2],\n",
              "       [3, 4],\n",
              "       [4, 4]])"
            ]
          },
          "execution_count": 172,
          "metadata": {},
          "output_type": "execute_result"
        }
      ],
      "source": [
        "np.concatenate((a1, a2), axis=0)"
      ]
    },
    {
      "cell_type": "code",
      "execution_count": null,
      "id": "c0f7373a-d6cd-4835-8ff3-6ba208116545",
      "metadata": {
        "id": "c0f7373a-d6cd-4835-8ff3-6ba208116545",
        "outputId": "e4adb296-4ab2-4f39-8de6-cb0b6fa682f5"
      },
      "outputs": [
        {
          "data": {
            "text/plain": [
              "array([[1, 1, 3, 4],\n",
              "       [2, 2, 4, 4]])"
            ]
          },
          "execution_count": 173,
          "metadata": {},
          "output_type": "execute_result"
        }
      ],
      "source": [
        "np.concatenate((a1, a2), axis=1)"
      ]
    },
    {
      "cell_type": "code",
      "execution_count": null,
      "id": "512a9266-75f6-4830-b02f-ebc50322c67f",
      "metadata": {
        "id": "512a9266-75f6-4830-b02f-ebc50322c67f"
      },
      "outputs": [],
      "source": [
        "a = np.array([1, 2, 3, 4, 5, 6, 7, 8, 9, 10])"
      ]
    },
    {
      "cell_type": "code",
      "execution_count": null,
      "id": "d734ad38-09a2-42b3-bcb2-20d2542e7865",
      "metadata": {
        "id": "d734ad38-09a2-42b3-bcb2-20d2542e7865"
      },
      "outputs": [],
      "source": [
        "a = np.arange(1, 15)"
      ]
    },
    {
      "cell_type": "code",
      "execution_count": null,
      "id": "ce8cacea-1aa7-4f52-8d92-9f0af3bd50af",
      "metadata": {
        "id": "ce8cacea-1aa7-4f52-8d92-9f0af3bd50af",
        "outputId": "afa0a7c1-9405-4f41-e004-6aad3f11160d"
      },
      "outputs": [
        {
          "data": {
            "text/plain": [
              "array([[ 1,  2,  3,  4,  5,  6,  7],\n",
              "       [ 8,  9, 10, 11, 12, 13, 14]])"
            ]
          },
          "execution_count": 179,
          "metadata": {},
          "output_type": "execute_result"
        }
      ],
      "source": [
        "a.reshape(2, 7)"
      ]
    },
    {
      "cell_type": "code",
      "execution_count": null,
      "id": "c274c875-4866-492a-966e-d66e1d514e4e",
      "metadata": {
        "id": "c274c875-4866-492a-966e-d66e1d514e4e"
      },
      "outputs": [],
      "source": [
        "x= np.arange(1, 25).reshape(2, 12)"
      ]
    },
    {
      "cell_type": "code",
      "execution_count": null,
      "id": "b88db1c0-fb9b-4af0-8832-bfd97c15ce7f",
      "metadata": {
        "id": "b88db1c0-fb9b-4af0-8832-bfd97c15ce7f",
        "outputId": "34b5ed21-59ba-4632-d141-2774eb4907a9"
      },
      "outputs": [
        {
          "data": {
            "text/plain": [
              "array([[ 1,  2,  3,  4,  5,  6,  7,  8,  9, 10, 11, 12],\n",
              "       [13, 14, 15, 16, 17, 18, 19, 20, 21, 22, 23, 24]])"
            ]
          },
          "execution_count": 184,
          "metadata": {},
          "output_type": "execute_result"
        }
      ],
      "source": [
        "x"
      ]
    },
    {
      "cell_type": "code",
      "execution_count": null,
      "id": "47d013bf-2492-4ea4-ab04-6c1e23af3814",
      "metadata": {
        "id": "47d013bf-2492-4ea4-ab04-6c1e23af3814",
        "outputId": "92af63c3-8355-4cc9-e554-4cbc325bd9f9"
      },
      "outputs": [
        {
          "data": {
            "text/plain": [
              "array([[ 1,  2,  3,  4],\n",
              "       [13, 14, 15, 16]])"
            ]
          },
          "execution_count": 186,
          "metadata": {},
          "output_type": "execute_result"
        }
      ],
      "source": [
        "np.hsplit(x, 3)[0] # stack them horizontally with"
      ]
    },
    {
      "cell_type": "code",
      "execution_count": null,
      "id": "263cdb1d-5048-497d-a9e2-2b53015c82b1",
      "metadata": {
        "id": "263cdb1d-5048-497d-a9e2-2b53015c82b1",
        "outputId": "619b3646-9737-4308-ed43-94062aefd215"
      },
      "outputs": [
        {
          "data": {
            "text/plain": [
              "[array([[ 1,  2,  3],\n",
              "        [13, 14, 15]]),\n",
              " array([[ 4],\n",
              "        [16]]),\n",
              " array([[ 5,  6,  7,  8,  9, 10, 11, 12],\n",
              "        [17, 18, 19, 20, 21, 22, 23, 24]])]"
            ]
          },
          "execution_count": 188,
          "metadata": {},
          "output_type": "execute_result"
        }
      ],
      "source": [
        "np.hsplit(x, (3, 4))"
      ]
    },
    {
      "cell_type": "code",
      "execution_count": null,
      "id": "42e7ba92-ab7b-4d5c-949b-a36bcc58b5ac",
      "metadata": {
        "id": "42e7ba92-ab7b-4d5c-949b-a36bcc58b5ac"
      },
      "outputs": [],
      "source": [
        "# slicing, 매우매우 중요함"
      ]
    },
    {
      "cell_type": "code",
      "execution_count": null,
      "id": "64d41360-6c4f-4566-ab21-5a36df657e4e",
      "metadata": {
        "id": "64d41360-6c4f-4566-ab21-5a36df657e4e"
      },
      "outputs": [],
      "source": [
        "a = np.array([[1, 2, 3, 4], [5, 6, 7, 8], [9, 10, 11, 12]])"
      ]
    },
    {
      "cell_type": "code",
      "execution_count": null,
      "id": "cff86be1-ee52-4b35-9056-9d0fc32661ef",
      "metadata": {
        "id": "cff86be1-ee52-4b35-9056-9d0fc32661ef",
        "outputId": "04b08408-ac06-47ea-d6cc-7dc5095a24d0"
      },
      "outputs": [
        {
          "data": {
            "text/plain": [
              "array([[ 1,  2,  3,  4],\n",
              "       [ 5,  6,  7,  8],\n",
              "       [ 9, 10, 11, 12]])"
            ]
          },
          "execution_count": 233,
          "metadata": {},
          "output_type": "execute_result"
        }
      ],
      "source": [
        "a"
      ]
    },
    {
      "cell_type": "code",
      "execution_count": null,
      "id": "0f0990fa-8f10-4d20-93a5-4bf03dde67ad",
      "metadata": {
        "id": "0f0990fa-8f10-4d20-93a5-4bf03dde67ad",
        "outputId": "6d61e500-3288-43d0-9ab4-7c1518886de5"
      },
      "outputs": [
        {
          "name": "stdout",
          "output_type": "stream",
          "text": [
            "12\n"
          ]
        }
      ],
      "source": [
        "print(a[2, 3])"
      ]
    },
    {
      "cell_type": "code",
      "execution_count": null,
      "id": "ae07c416-94cf-4b8c-8c5c-198a8ec84db5",
      "metadata": {
        "id": "ae07c416-94cf-4b8c-8c5c-198a8ec84db5",
        "outputId": "5ada1566-b93a-4539-d3c8-0118ec3408b6"
      },
      "outputs": [
        {
          "data": {
            "text/plain": [
              "np.int64(12)"
            ]
          },
          "execution_count": 219,
          "metadata": {},
          "output_type": "execute_result"
        }
      ],
      "source": [
        "(a[2, 3])"
      ]
    },
    {
      "cell_type": "code",
      "execution_count": null,
      "id": "0a5304af-c509-4b75-b813-bb013531a8d5",
      "metadata": {
        "id": "0a5304af-c509-4b75-b813-bb013531a8d5"
      },
      "outputs": [],
      "source": [
        "b1 = a[0,:]"
      ]
    },
    {
      "cell_type": "code",
      "execution_count": null,
      "id": "befa829d-2cfb-496e-9cac-ffe904fb26d7",
      "metadata": {
        "id": "befa829d-2cfb-496e-9cac-ffe904fb26d7",
        "outputId": "34152ee0-59bb-40b5-a3ff-deffe6293f56"
      },
      "outputs": [
        {
          "data": {
            "text/plain": [
              "array([1, 2, 3, 4])"
            ]
          },
          "execution_count": 236,
          "metadata": {},
          "output_type": "execute_result"
        }
      ],
      "source": [
        "b1"
      ]
    },
    {
      "cell_type": "code",
      "execution_count": null,
      "id": "663f2c4a-981b-4029-b813-79e2d9e8cade",
      "metadata": {
        "id": "663f2c4a-981b-4029-b813-79e2d9e8cade"
      },
      "outputs": [],
      "source": [
        "b1[0] = 99"
      ]
    },
    {
      "cell_type": "code",
      "execution_count": null,
      "id": "3520be0b-ff56-4723-8e2a-e3be68c9be58",
      "metadata": {
        "id": "3520be0b-ff56-4723-8e2a-e3be68c9be58",
        "outputId": "ebe7d69c-9b85-4877-e709-cac374660a5b"
      },
      "outputs": [
        {
          "data": {
            "text/plain": [
              "array([99,  2,  3,  4])"
            ]
          },
          "execution_count": 246,
          "metadata": {},
          "output_type": "execute_result"
        }
      ],
      "source": [
        "b1"
      ]
    },
    {
      "cell_type": "code",
      "execution_count": null,
      "id": "54326cdf-4083-4af6-9822-f80318f45f89",
      "metadata": {
        "id": "54326cdf-4083-4af6-9822-f80318f45f89",
        "outputId": "0974c591-bad5-4673-e673-47ae577773fa"
      },
      "outputs": [
        {
          "data": {
            "text/plain": [
              "array([[99,  2,  3,  4],\n",
              "       [ 5,  6,  7,  8],\n",
              "       [ 9, 10, 11, 12]])"
            ]
          },
          "execution_count": 239,
          "metadata": {},
          "output_type": "execute_result"
        }
      ],
      "source": [
        "a"
      ]
    },
    {
      "cell_type": "code",
      "execution_count": null,
      "id": "e9bfd751-2a97-4710-9450-d6ce4c484c32",
      "metadata": {
        "id": "e9bfd751-2a97-4710-9450-d6ce4c484c32"
      },
      "outputs": [],
      "source": [
        "b2 = a[0,:].copy()"
      ]
    },
    {
      "cell_type": "code",
      "execution_count": null,
      "id": "9a4ac6d4-1406-44a4-9b16-3b43f45202f8",
      "metadata": {
        "id": "9a4ac6d4-1406-44a4-9b16-3b43f45202f8",
        "outputId": "37bfcc9a-623c-47f8-ce48-1ec0906c6e05"
      },
      "outputs": [
        {
          "data": {
            "text/plain": [
              "array([99,  2,  3,  4])"
            ]
          },
          "execution_count": 244,
          "metadata": {},
          "output_type": "execute_result"
        }
      ],
      "source": [
        "b2"
      ]
    },
    {
      "cell_type": "code",
      "execution_count": null,
      "id": "ee775712-5e1b-4ce2-a5d4-3794671c21a4",
      "metadata": {
        "id": "ee775712-5e1b-4ce2-a5d4-3794671c21a4",
        "outputId": "ccd29697-9071-4b13-eddc-f456527fb2cb"
      },
      "outputs": [
        {
          "name": "stdout",
          "output_type": "stream",
          "text": [
            "[99  2  3  4]\n"
          ]
        }
      ],
      "source": [
        "print(b2)"
      ]
    },
    {
      "cell_type": "code",
      "execution_count": null,
      "id": "1d81507b-b081-44a4-88c4-3b569bfea7d6",
      "metadata": {
        "id": "1d81507b-b081-44a4-88c4-3b569bfea7d6"
      },
      "outputs": [],
      "source": [
        "# basic operations"
      ]
    },
    {
      "cell_type": "code",
      "execution_count": null,
      "id": "9d05ea1b-4ddd-4631-81ca-f218977bc56a",
      "metadata": {
        "id": "9d05ea1b-4ddd-4631-81ca-f218977bc56a"
      },
      "outputs": [],
      "source": [
        "data = np.array([1, 2])"
      ]
    },
    {
      "cell_type": "code",
      "execution_count": null,
      "id": "d9650be2-a409-482a-a95f-1030b65fb70b",
      "metadata": {
        "id": "d9650be2-a409-482a-a95f-1030b65fb70b"
      },
      "outputs": [],
      "source": [
        "ones = np.ones(2, dtype=int)"
      ]
    },
    {
      "cell_type": "code",
      "execution_count": null,
      "id": "d6a0e53d-3310-41a7-a159-3387a44441dc",
      "metadata": {
        "id": "d6a0e53d-3310-41a7-a159-3387a44441dc",
        "outputId": "8850a445-df24-4adc-9c85-c3a9a9c584ae"
      },
      "outputs": [
        {
          "data": {
            "text/plain": [
              "array([1, 2])"
            ]
          },
          "execution_count": 252,
          "metadata": {},
          "output_type": "execute_result"
        }
      ],
      "source": [
        "data"
      ]
    },
    {
      "cell_type": "code",
      "execution_count": null,
      "id": "b89ff26a-fd82-48d1-b73b-9ac1f9dc5879",
      "metadata": {
        "id": "b89ff26a-fd82-48d1-b73b-9ac1f9dc5879",
        "outputId": "3496a885-e5c8-43c1-c587-23dd039dcfe1"
      },
      "outputs": [
        {
          "data": {
            "text/plain": [
              "array([2, 3])"
            ]
          },
          "execution_count": 250,
          "metadata": {},
          "output_type": "execute_result"
        }
      ],
      "source": [
        "data + ones"
      ]
    },
    {
      "cell_type": "code",
      "execution_count": null,
      "id": "0c3a3ed5-79f7-42d6-acbb-21f77ff5670b",
      "metadata": {
        "id": "0c3a3ed5-79f7-42d6-acbb-21f77ff5670b",
        "outputId": "a9d37745-6ffe-43ae-dddf-2d447c494dd1"
      },
      "outputs": [
        {
          "data": {
            "text/plain": [
              "array([[99,  2,  3,  4],\n",
              "       [ 5,  6,  7,  8],\n",
              "       [ 9, 10, 11, 12]])"
            ]
          },
          "execution_count": 253,
          "metadata": {},
          "output_type": "execute_result"
        }
      ],
      "source": [
        "a"
      ]
    },
    {
      "cell_type": "code",
      "execution_count": null,
      "id": "b2e51e0d-c4ee-4d3b-ba26-458a0dca4725",
      "metadata": {
        "id": "b2e51e0d-c4ee-4d3b-ba26-458a0dca4725"
      },
      "outputs": [],
      "source": [
        "import numpy as np"
      ]
    },
    {
      "cell_type": "code",
      "execution_count": null,
      "id": "b6573d97-b6c7-48b5-808c-2204b03dd214",
      "metadata": {
        "id": "b6573d97-b6c7-48b5-808c-2204b03dd214"
      },
      "outputs": [],
      "source": [
        "data = np.array([1, 2])"
      ]
    },
    {
      "cell_type": "code",
      "execution_count": null,
      "id": "c2a741b6-78c0-406a-86ad-ec93d62d8c36",
      "metadata": {
        "id": "c2a741b6-78c0-406a-86ad-ec93d62d8c36"
      },
      "outputs": [],
      "source": [
        "ones = np.ones(2, dtype=int)"
      ]
    },
    {
      "cell_type": "code",
      "execution_count": null,
      "id": "87f3cc35-413f-416f-96f8-e81f932ee543",
      "metadata": {
        "id": "87f3cc35-413f-416f-96f8-e81f932ee543",
        "outputId": "6b4e277f-deed-4a1c-bcbe-6ad5041ef4a9"
      },
      "outputs": [
        {
          "data": {
            "text/plain": [
              "array([[99,  2,  3,  4],\n",
              "       [ 5,  6,  7,  8],\n",
              "       [ 9, 10, 11, 12]])"
            ]
          },
          "execution_count": 257,
          "metadata": {},
          "output_type": "execute_result"
        }
      ],
      "source": [
        "a"
      ]
    },
    {
      "cell_type": "code",
      "execution_count": null,
      "id": "66bffb98-3803-4777-8d5a-d61ac9516cd0",
      "metadata": {
        "id": "66bffb98-3803-4777-8d5a-d61ac9516cd0"
      },
      "outputs": [],
      "source": [
        "a = np.array([1, 2, 3, 4])"
      ]
    },
    {
      "cell_type": "code",
      "execution_count": null,
      "id": "e0d580b3-f25f-403a-99cf-de7ba86be85c",
      "metadata": {
        "id": "e0d580b3-f25f-403a-99cf-de7ba86be85c",
        "outputId": "fdb8de34-5d91-4da4-971f-1a783c6433db"
      },
      "outputs": [
        {
          "data": {
            "text/plain": [
              "array([1, 2, 3, 4])"
            ]
          },
          "execution_count": 259,
          "metadata": {},
          "output_type": "execute_result"
        }
      ],
      "source": [
        "a"
      ]
    },
    {
      "cell_type": "code",
      "execution_count": null,
      "id": "b5e66c94-4d08-422e-a08a-646cf87d9504",
      "metadata": {
        "id": "b5e66c94-4d08-422e-a08a-646cf87d9504"
      },
      "outputs": [],
      "source": [
        "b = np.array(([1, 1], [2, 2]))"
      ]
    },
    {
      "cell_type": "code",
      "execution_count": null,
      "id": "332bdf38-b48e-447e-afe5-56d0c7a38033",
      "metadata": {
        "id": "332bdf38-b48e-447e-afe5-56d0c7a38033",
        "outputId": "c1ff5648-65f1-4407-b0d9-ea38c7fcb5f1"
      },
      "outputs": [
        {
          "data": {
            "text/plain": [
              "array([3, 3])"
            ]
          },
          "execution_count": 261,
          "metadata": {},
          "output_type": "execute_result"
        }
      ],
      "source": [
        "b.sum(axis=0)"
      ]
    },
    {
      "cell_type": "code",
      "execution_count": null,
      "id": "43ebba8d-293e-40b8-b5c4-f6b18363b500",
      "metadata": {
        "id": "43ebba8d-293e-40b8-b5c4-f6b18363b500",
        "outputId": "94c3716c-5d92-4624-f930-e911c77c6260"
      },
      "outputs": [
        {
          "data": {
            "text/plain": [
              "array([[1, 1],\n",
              "       [2, 2]])"
            ]
          },
          "execution_count": 262,
          "metadata": {},
          "output_type": "execute_result"
        }
      ],
      "source": [
        "b"
      ]
    },
    {
      "cell_type": "code",
      "execution_count": null,
      "id": "89d352e1-e4d1-4f5d-aabf-02a81382dfed",
      "metadata": {
        "id": "89d352e1-e4d1-4f5d-aabf-02a81382dfed",
        "outputId": "ba43bd2d-b07d-4d8b-9b7a-7084f3eae046"
      },
      "outputs": [
        {
          "data": {
            "text/plain": [
              "array([2, 4])"
            ]
          },
          "execution_count": 263,
          "metadata": {},
          "output_type": "execute_result"
        }
      ],
      "source": [
        "b.sum(axis=1)"
      ]
    },
    {
      "cell_type": "code",
      "execution_count": null,
      "id": "258e14d5-b688-4722-a910-d91de6868a40",
      "metadata": {
        "id": "258e14d5-b688-4722-a910-d91de6868a40"
      },
      "outputs": [],
      "source": [
        "data = np.array([[1, 2], [3, 4], [5, 6]])"
      ]
    },
    {
      "cell_type": "code",
      "execution_count": null,
      "id": "fa5c46dd-029d-4bf8-8831-20747b0d9aab",
      "metadata": {
        "id": "fa5c46dd-029d-4bf8-8831-20747b0d9aab",
        "outputId": "66026da6-09a6-44db-cc2e-213038f8ebf2"
      },
      "outputs": [
        {
          "data": {
            "text/plain": [
              "array([[1, 2],\n",
              "       [3, 4],\n",
              "       [5, 6]])"
            ]
          },
          "execution_count": 269,
          "metadata": {},
          "output_type": "execute_result"
        }
      ],
      "source": [
        "data"
      ]
    },
    {
      "cell_type": "code",
      "execution_count": null,
      "id": "b1598b71-a10f-43f0-9b71-2583328f8561",
      "metadata": {
        "id": "b1598b71-a10f-43f0-9b71-2583328f8561",
        "outputId": "f69d1675-6e4c-4ee0-c7e0-10ee0fbe29f2"
      },
      "outputs": [
        {
          "name": "stdout",
          "output_type": "stream",
          "text": [
            "6\n"
          ]
        }
      ],
      "source": [
        "print(data.max())"
      ]
    },
    {
      "cell_type": "code",
      "execution_count": null,
      "id": "17cac21e-a51f-4e03-8ee4-5b4350064ce2",
      "metadata": {
        "id": "17cac21e-a51f-4e03-8ee4-5b4350064ce2",
        "outputId": "c2e53d31-93ca-4240-b304-ab5e1f6d6014"
      },
      "outputs": [
        {
          "name": "stdout",
          "output_type": "stream",
          "text": [
            "1\n"
          ]
        }
      ],
      "source": [
        "print(data.min())"
      ]
    },
    {
      "cell_type": "code",
      "execution_count": null,
      "id": "7785c3ed-811b-40a2-90a4-762ba0cf8c9b",
      "metadata": {
        "id": "7785c3ed-811b-40a2-90a4-762ba0cf8c9b",
        "outputId": "33cbe4dd-5fa2-4815-a787-926cd1dd6050"
      },
      "outputs": [
        {
          "name": "stdout",
          "output_type": "stream",
          "text": [
            "[1 2 3 4]\n"
          ]
        }
      ],
      "source": [
        "print(a)"
      ]
    },
    {
      "cell_type": "code",
      "execution_count": null,
      "id": "7835ecb1-b7d3-49eb-936e-92ed570117e1",
      "metadata": {
        "id": "7835ecb1-b7d3-49eb-936e-92ed570117e1"
      },
      "outputs": [],
      "source": [
        "b = np.array(([1, 4], [2, 7], [3, 8]))"
      ]
    },
    {
      "cell_type": "code",
      "execution_count": null,
      "id": "7db07d40-ff0e-4e15-8deb-522b2457b95e",
      "metadata": {
        "id": "7db07d40-ff0e-4e15-8deb-522b2457b95e",
        "outputId": "2d952d1d-b905-49b4-dad2-1b3f9db53115"
      },
      "outputs": [
        {
          "data": {
            "text/plain": [
              "array([[1, 4],\n",
              "       [2, 7],\n",
              "       [3, 8]])"
            ]
          },
          "execution_count": 280,
          "metadata": {},
          "output_type": "execute_result"
        }
      ],
      "source": [
        "b"
      ]
    },
    {
      "cell_type": "code",
      "execution_count": null,
      "id": "271d4f6a-2ba2-4e79-888c-d3a2ac194aec",
      "metadata": {
        "id": "271d4f6a-2ba2-4e79-888c-d3a2ac194aec",
        "outputId": "43402d1c-703b-4b38-e293-c4c167e4abd1"
      },
      "outputs": [
        {
          "data": {
            "text/plain": [
              "array([1, 4])"
            ]
          },
          "execution_count": 281,
          "metadata": {},
          "output_type": "execute_result"
        }
      ],
      "source": [
        "b.min(axis=0)"
      ]
    },
    {
      "cell_type": "code",
      "execution_count": null,
      "id": "649507a4-4fdb-4bc0-983d-a14018ab9fa2",
      "metadata": {
        "id": "649507a4-4fdb-4bc0-983d-a14018ab9fa2",
        "outputId": "a00c1f41-6f58-4568-9cbf-43d59ad26413"
      },
      "outputs": [
        {
          "data": {
            "text/plain": [
              "array([3, 8])"
            ]
          },
          "execution_count": 282,
          "metadata": {},
          "output_type": "execute_result"
        }
      ],
      "source": [
        "b.max(axis=0)"
      ]
    },
    {
      "cell_type": "code",
      "execution_count": null,
      "id": "f0986532-abc2-4747-8290-4537935dd321",
      "metadata": {
        "id": "f0986532-abc2-4747-8290-4537935dd321"
      },
      "outputs": [],
      "source": [
        "data = np.array([[1, 2], [3, 4], [5, 6]])"
      ]
    },
    {
      "cell_type": "code",
      "execution_count": null,
      "id": "88ace1d4-3a77-4813-a5e6-33e7012dd65b",
      "metadata": {
        "id": "88ace1d4-3a77-4813-a5e6-33e7012dd65b",
        "outputId": "247e7add-ab1a-45a4-dac4-aaecce5839aa"
      },
      "outputs": [
        {
          "data": {
            "text/plain": [
              "array([[1, 2],\n",
              "       [3, 4],\n",
              "       [5, 6]])"
            ]
          },
          "execution_count": 285,
          "metadata": {},
          "output_type": "execute_result"
        }
      ],
      "source": [
        "data"
      ]
    },
    {
      "cell_type": "code",
      "execution_count": null,
      "id": "52cd331d-2eb0-483d-b627-5484f620497e",
      "metadata": {
        "id": "52cd331d-2eb0-483d-b627-5484f620497e",
        "outputId": "5596e7ab-5222-4052-f42a-6573ca990976"
      },
      "outputs": [
        {
          "data": {
            "text/plain": [
              "np.int64(2)"
            ]
          },
          "execution_count": 286,
          "metadata": {},
          "output_type": "execute_result"
        }
      ],
      "source": [
        "data[0, 1]"
      ]
    },
    {
      "cell_type": "code",
      "execution_count": null,
      "id": "1f0a9e3d-bd4a-47f2-929d-6102a9209e02",
      "metadata": {
        "id": "1f0a9e3d-bd4a-47f2-929d-6102a9209e02",
        "outputId": "b03bb09f-f4b1-42ce-8a51-1a921c03b868"
      },
      "outputs": [
        {
          "name": "stdout",
          "output_type": "stream",
          "text": [
            "2\n"
          ]
        }
      ],
      "source": [
        "print(data[0,1])"
      ]
    },
    {
      "cell_type": "code",
      "execution_count": null,
      "id": "71105d12-821c-443f-9cd2-22c183d71e99",
      "metadata": {
        "id": "71105d12-821c-443f-9cd2-22c183d71e99",
        "outputId": "bd465eec-a014-408f-858f-9425f37234ea"
      },
      "outputs": [
        {
          "name": "stdout",
          "output_type": "stream",
          "text": [
            "[[3 4]\n",
            " [5 6]]\n"
          ]
        }
      ],
      "source": [
        "print(data[1:3])"
      ]
    },
    {
      "cell_type": "code",
      "execution_count": null,
      "id": "f51e9cbe-11c6-4182-9fed-0523d8f1e6f2",
      "metadata": {
        "id": "f51e9cbe-11c6-4182-9fed-0523d8f1e6f2",
        "outputId": "81c4a613-628d-4619-ec66-a6dcb614be63"
      },
      "outputs": [
        {
          "data": {
            "text/plain": [
              "array([1, 3])"
            ]
          },
          "execution_count": 289,
          "metadata": {},
          "output_type": "execute_result"
        }
      ],
      "source": [
        "data[0:2, 0]"
      ]
    },
    {
      "cell_type": "code",
      "execution_count": null,
      "id": "0a3e5015-de7f-4e3e-ba46-c11b616f3b54",
      "metadata": {
        "id": "0a3e5015-de7f-4e3e-ba46-c11b616f3b54"
      },
      "outputs": [],
      "source": [
        "a = np.array([11, 11, 12, 13, 14, 15, 16, 17, 12, 13, 11, 14, 18, 19, 20])"
      ]
    },
    {
      "cell_type": "code",
      "execution_count": null,
      "id": "6941518f-e095-4168-b3b6-609aadfc65a3",
      "metadata": {
        "id": "6941518f-e095-4168-b3b6-609aadfc65a3"
      },
      "outputs": [],
      "source": [
        "unique_values = np.unique(a) #to print the unique values in your array"
      ]
    },
    {
      "cell_type": "code",
      "execution_count": null,
      "id": "eaf4df93-acf4-419b-9b6c-75ed4008527e",
      "metadata": {
        "id": "eaf4df93-acf4-419b-9b6c-75ed4008527e",
        "outputId": "784a3092-9f05-4fdb-a3e2-76aeaa22fda0"
      },
      "outputs": [
        {
          "name": "stdout",
          "output_type": "stream",
          "text": [
            "[11 12 13 14 15 16 17 18 19 20]\n"
          ]
        }
      ],
      "source": [
        "print(unique_values)"
      ]
    },
    {
      "cell_type": "code",
      "execution_count": null,
      "id": "8b5a2d9a-37e6-4455-bfab-9bd00403caa3",
      "metadata": {
        "id": "8b5a2d9a-37e6-4455-bfab-9bd00403caa3"
      },
      "outputs": [],
      "source": [
        "unique_values = np.unique(a)"
      ]
    },
    {
      "cell_type": "code",
      "execution_count": null,
      "id": "0f725afb-2aba-4357-b365-77822d9334d3",
      "metadata": {
        "id": "0f725afb-2aba-4357-b365-77822d9334d3",
        "outputId": "754699b8-596e-496a-9291-9da5a0497840"
      },
      "outputs": [
        {
          "name": "stdout",
          "output_type": "stream",
          "text": [
            "[11 12 13 14 15 16 17 18 19 20]\n"
          ]
        }
      ],
      "source": [
        "print(unique_values)"
      ]
    },
    {
      "cell_type": "code",
      "execution_count": null,
      "id": "d32f6001-8639-416c-b00b-dbab2a64676a",
      "metadata": {
        "id": "d32f6001-8639-416c-b00b-dbab2a64676a"
      },
      "outputs": [],
      "source": [
        "unique_values, indices_list = np.unique(a, return_index=True)"
      ]
    },
    {
      "cell_type": "code",
      "execution_count": null,
      "id": "a201b99c-6c56-4f53-a38b-8e2801992f26",
      "metadata": {
        "id": "a201b99c-6c56-4f53-a38b-8e2801992f26",
        "outputId": "e2736397-9dd9-4dd3-f182-c728fed86a69"
      },
      "outputs": [
        {
          "name": "stdout",
          "output_type": "stream",
          "text": [
            "[ 0  2  3  4  5  6  7 12 13 14]\n"
          ]
        }
      ],
      "source": [
        "print(indices_list)"
      ]
    },
    {
      "cell_type": "code",
      "execution_count": null,
      "id": "a3e1cd11-8af8-4962-92d8-41bfa2dcaf61",
      "metadata": {
        "id": "a3e1cd11-8af8-4962-92d8-41bfa2dcaf61"
      },
      "outputs": [],
      "source": [
        "unique_values, occurrence_count = np.unique(a, return_counts=True)"
      ]
    },
    {
      "cell_type": "code",
      "execution_count": null,
      "id": "7f6bb3fd-27c3-4d63-8173-cafe4b4408aa",
      "metadata": {
        "id": "7f6bb3fd-27c3-4d63-8173-cafe4b4408aa",
        "outputId": "93e43d74-ef63-4167-f5e0-7d4cce7638c8"
      },
      "outputs": [
        {
          "name": "stdout",
          "output_type": "stream",
          "text": [
            "[3 2 2 2 1 1 1 1 1 1]\n"
          ]
        }
      ],
      "source": [
        "print(occurrence_count)"
      ]
    },
    {
      "cell_type": "code",
      "execution_count": null,
      "id": "ec76ccf3-6071-4bec-b483-e009cd9cccfe",
      "metadata": {
        "id": "ec76ccf3-6071-4bec-b483-e009cd9cccfe"
      },
      "outputs": [],
      "source": [
        "a_2d = np.array([[1, 2, 3, 4], [5, 6, 7, 8], [9, 10, 11, 12], [1, 2, 3, 4]])"
      ]
    },
    {
      "cell_type": "code",
      "execution_count": null,
      "id": "1a81331a-9673-49d9-bf3f-af930469ff74",
      "metadata": {
        "id": "1a81331a-9673-49d9-bf3f-af930469ff74",
        "outputId": "d87d8592-910e-4f2a-d6c2-06bceaeec13c"
      },
      "outputs": [
        {
          "name": "stdout",
          "output_type": "stream",
          "text": [
            "[[ 1  2  3  4]\n",
            " [ 5  6  7  8]\n",
            " [ 9 10 11 12]\n",
            " [ 1  2  3  4]]\n"
          ]
        }
      ],
      "source": [
        "print(a_2d)"
      ]
    },
    {
      "cell_type": "code",
      "execution_count": null,
      "id": "44b1ba34-869a-4050-9ab1-49a338d9e788",
      "metadata": {
        "id": "44b1ba34-869a-4050-9ab1-49a338d9e788"
      },
      "outputs": [],
      "source": [
        "unique_values = np.unique(a_2d)"
      ]
    },
    {
      "cell_type": "code",
      "execution_count": null,
      "id": "04893a39-b38f-45a3-9a35-546b9d927a77",
      "metadata": {
        "id": "04893a39-b38f-45a3-9a35-546b9d927a77",
        "outputId": "79cb4b20-0f69-45b2-f71e-f86d10cf4a09"
      },
      "outputs": [
        {
          "name": "stdout",
          "output_type": "stream",
          "text": [
            "[ 1  2  3  4  5  6  7  8  9 10 11 12]\n"
          ]
        }
      ],
      "source": [
        "print(unique_values)"
      ]
    },
    {
      "cell_type": "code",
      "execution_count": null,
      "id": "f26cbc47-5b3c-4e12-82bb-b1e5c0ccadc7",
      "metadata": {
        "id": "f26cbc47-5b3c-4e12-82bb-b1e5c0ccadc7"
      },
      "outputs": [],
      "source": [
        "unique_rows = np.unique(a_2d, axis=0)"
      ]
    },
    {
      "cell_type": "code",
      "execution_count": null,
      "id": "e789b96f-1b05-47ab-86ac-0034670a98ab",
      "metadata": {
        "id": "e789b96f-1b05-47ab-86ac-0034670a98ab",
        "outputId": "b304f762-4fac-4499-bff1-0b6916324e12"
      },
      "outputs": [
        {
          "name": "stdout",
          "output_type": "stream",
          "text": [
            "[[ 1  2  3  4]\n",
            " [ 5  6  7  8]\n",
            " [ 9 10 11 12]]\n"
          ]
        }
      ],
      "source": [
        "print(unique_rows)"
      ]
    },
    {
      "cell_type": "code",
      "execution_count": null,
      "id": "46cb529a-029f-47bd-9e5d-4b28d294e06e",
      "metadata": {
        "id": "46cb529a-029f-47bd-9e5d-4b28d294e06e"
      },
      "outputs": [],
      "source": [
        "unique_rows, indices, occurrence_count = np.unique(\n",
        "     a_2d, axis=0, return_counts=True, return_index=True)"
      ]
    },
    {
      "cell_type": "code",
      "execution_count": null,
      "id": "8dc29f50-c338-4a89-aa22-a3f2e29b040a",
      "metadata": {
        "id": "8dc29f50-c338-4a89-aa22-a3f2e29b040a",
        "outputId": "fccff6cb-8d61-415f-c103-72dd3bd8dfc3"
      },
      "outputs": [
        {
          "name": "stdout",
          "output_type": "stream",
          "text": [
            "[[ 1  2  3  4]\n",
            " [ 5  6  7  8]\n",
            " [ 9 10 11 12]]\n"
          ]
        }
      ],
      "source": [
        "print(unique_rows)"
      ]
    },
    {
      "cell_type": "code",
      "execution_count": null,
      "id": "0c846e14-9ded-445d-8a34-6780f9910973",
      "metadata": {
        "id": "0c846e14-9ded-445d-8a34-6780f9910973",
        "outputId": "5203b8f8-da75-4ca5-d90e-41d503c5fd46"
      },
      "outputs": [
        {
          "name": "stdout",
          "output_type": "stream",
          "text": [
            "[0 1 2]\n"
          ]
        }
      ],
      "source": [
        "print(indices)"
      ]
    },
    {
      "cell_type": "code",
      "execution_count": null,
      "id": "56abbba7-f614-4e19-8c90-afb75683bdde",
      "metadata": {
        "id": "56abbba7-f614-4e19-8c90-afb75683bdde",
        "outputId": "09a7913b-4927-4e50-e92d-20ac108d5e5a"
      },
      "outputs": [
        {
          "name": "stdout",
          "output_type": "stream",
          "text": [
            "[2 1 1]\n"
          ]
        }
      ],
      "source": [
        "print(occurrence_count)"
      ]
    },
    {
      "cell_type": "code",
      "execution_count": null,
      "id": "4491a47f-9a30-4a63-bf00-e3e7d0eb55d6",
      "metadata": {
        "id": "4491a47f-9a30-4a63-bf00-e3e7d0eb55d6",
        "outputId": "6684dcb6-4d85-4df1-f4ba-829f161be23e"
      },
      "outputs": [
        {
          "data": {
            "text/plain": [
              "array([[1, 2, 3],\n",
              "       [4, 5, 6]])"
            ]
          },
          "execution_count": 312,
          "metadata": {},
          "output_type": "execute_result"
        }
      ],
      "source": [
        "data.reshape(2, 3)"
      ]
    },
    {
      "cell_type": "code",
      "execution_count": null,
      "id": "094157de-9fdb-46f1-9772-0f6f51c63eae",
      "metadata": {
        "id": "094157de-9fdb-46f1-9772-0f6f51c63eae",
        "outputId": "4853b883-c4f9-45ee-e376-173d7a43faf3"
      },
      "outputs": [
        {
          "data": {
            "text/plain": [
              "array([[1, 2],\n",
              "       [3, 4],\n",
              "       [5, 6]])"
            ]
          },
          "execution_count": 313,
          "metadata": {},
          "output_type": "execute_result"
        }
      ],
      "source": [
        "data.reshape(3, 2)"
      ]
    },
    {
      "cell_type": "code",
      "execution_count": null,
      "id": "95d7ee99-4183-4b8a-8288-432399a81098",
      "metadata": {
        "id": "95d7ee99-4183-4b8a-8288-432399a81098"
      },
      "outputs": [],
      "source": [
        "arr = np.arange(6).reshape((2, 3))"
      ]
    },
    {
      "cell_type": "code",
      "execution_count": null,
      "id": "d6b6b4e1-676a-487e-9770-d7889329b29d",
      "metadata": {
        "id": "d6b6b4e1-676a-487e-9770-d7889329b29d",
        "outputId": "c368856a-9985-474f-d303-638d14f1768b"
      },
      "outputs": [
        {
          "data": {
            "text/plain": [
              "array([[0, 1, 2],\n",
              "       [3, 4, 5]])"
            ]
          },
          "execution_count": 316,
          "metadata": {},
          "output_type": "execute_result"
        }
      ],
      "source": [
        "arr"
      ]
    },
    {
      "cell_type": "code",
      "execution_count": null,
      "id": "31023642-d5b4-4ad2-b73c-519c8974e9fe",
      "metadata": {
        "id": "31023642-d5b4-4ad2-b73c-519c8974e9fe",
        "outputId": "0d9a9435-0de8-4794-eacc-c8e01c3f340d"
      },
      "outputs": [
        {
          "data": {
            "text/plain": [
              "array([[0, 3],\n",
              "       [1, 4],\n",
              "       [2, 5]])"
            ]
          },
          "execution_count": 317,
          "metadata": {},
          "output_type": "execute_result"
        }
      ],
      "source": [
        "arr.transpose()"
      ]
    },
    {
      "cell_type": "code",
      "execution_count": null,
      "id": "3f33f238-a4d0-40ed-852d-9a8a5100bb93",
      "metadata": {
        "id": "3f33f238-a4d0-40ed-852d-9a8a5100bb93",
        "outputId": "6547ab8c-a59f-42d5-9c83-1d4bdc514e09"
      },
      "outputs": [
        {
          "data": {
            "text/plain": [
              "array([[0, 3],\n",
              "       [1, 4],\n",
              "       [2, 5]])"
            ]
          },
          "execution_count": 318,
          "metadata": {},
          "output_type": "execute_result"
        }
      ],
      "source": [
        "arr.T"
      ]
    },
    {
      "cell_type": "code",
      "execution_count": null,
      "id": "efb0ba12-2565-4b90-8cb4-6e28d938e9dd",
      "metadata": {
        "id": "efb0ba12-2565-4b90-8cb4-6e28d938e9dd"
      },
      "outputs": [],
      "source": [
        "arr = np.array([1, 2, 3, 4, 5, 6, 7, 8])"
      ]
    },
    {
      "cell_type": "code",
      "execution_count": null,
      "id": "baf1da10-12e1-4523-acb6-09f9aa7bbd53",
      "metadata": {
        "id": "baf1da10-12e1-4523-acb6-09f9aa7bbd53"
      },
      "outputs": [],
      "source": [
        "reversed_arr = np.flip(arr)"
      ]
    },
    {
      "cell_type": "code",
      "execution_count": null,
      "id": "feefa337-6e65-4489-b851-ce6b522401f7",
      "metadata": {
        "id": "feefa337-6e65-4489-b851-ce6b522401f7",
        "outputId": "3127b328-cd07-447e-be88-63d54594479c"
      },
      "outputs": [
        {
          "name": "stdout",
          "output_type": "stream",
          "text": [
            "Reversed Array:  [8 7 6 5 4 3 2 1]\n"
          ]
        }
      ],
      "source": [
        "print('Reversed Array: ', reversed_arr)"
      ]
    },
    {
      "cell_type": "code",
      "execution_count": null,
      "id": "30d7c784-f7a4-46be-98c1-c9242e18c042",
      "metadata": {
        "id": "30d7c784-f7a4-46be-98c1-c9242e18c042"
      },
      "outputs": [],
      "source": [
        "arr_2d = np.array([[1, 2, 3, 4], [5, 6, 7, 8], [9, 10, 11, 12]])"
      ]
    },
    {
      "cell_type": "code",
      "execution_count": null,
      "id": "87244703-fdf0-4405-bbec-8eeb5b24cb8c",
      "metadata": {
        "id": "87244703-fdf0-4405-bbec-8eeb5b24cb8c",
        "outputId": "8595869d-6d3a-43c0-9e17-daf2cb6c8e8c"
      },
      "outputs": [
        {
          "data": {
            "text/plain": [
              "array([[ 1,  2,  3,  4],\n",
              "       [ 5,  6,  7,  8],\n",
              "       [ 9, 10, 11, 12]])"
            ]
          },
          "execution_count": 323,
          "metadata": {},
          "output_type": "execute_result"
        }
      ],
      "source": [
        "arr_2d"
      ]
    },
    {
      "cell_type": "code",
      "execution_count": null,
      "id": "d528f473-6f72-4c7d-b5f2-8b067be92a23",
      "metadata": {
        "id": "d528f473-6f72-4c7d-b5f2-8b067be92a23",
        "outputId": "1d3eaa0c-befc-47c9-9d23-03a19ae8535a"
      },
      "outputs": [
        {
          "name": "stdout",
          "output_type": "stream",
          "text": [
            "[[ 1  2  3  4]\n",
            " [ 5  6  7  8]\n",
            " [ 9 10 11 12]]\n"
          ]
        }
      ],
      "source": [
        "print(arr_2d)"
      ]
    },
    {
      "cell_type": "code",
      "execution_count": null,
      "id": "5b291cb6-bdb7-4644-b981-b7c8c04194a8",
      "metadata": {
        "id": "5b291cb6-bdb7-4644-b981-b7c8c04194a8"
      },
      "outputs": [],
      "source": [
        "reversed_arr = np.flip(arr_2d)"
      ]
    },
    {
      "cell_type": "code",
      "execution_count": null,
      "id": "fc13d18c-e1db-4513-916b-b0d0c4e7c2f1",
      "metadata": {
        "id": "fc13d18c-e1db-4513-916b-b0d0c4e7c2f1",
        "outputId": "eb921101-8ed4-40eb-b6ce-272587cfdc93"
      },
      "outputs": [
        {
          "name": "stdout",
          "output_type": "stream",
          "text": [
            "[[12 11 10  9]\n",
            " [ 8  7  6  5]\n",
            " [ 4  3  2  1]]\n"
          ]
        }
      ],
      "source": [
        "print(reversed_arr)"
      ]
    },
    {
      "cell_type": "code",
      "execution_count": null,
      "id": "53a92fcf-0970-4ce8-9f9b-454a3aff9b7c",
      "metadata": {
        "id": "53a92fcf-0970-4ce8-9f9b-454a3aff9b7c"
      },
      "outputs": [],
      "source": [
        "reversed_arr_rows = np.flip(arr_2d, axis=0)"
      ]
    },
    {
      "cell_type": "code",
      "execution_count": null,
      "id": "d1fa9318-e5f1-408b-abb9-207820b672e2",
      "metadata": {
        "id": "d1fa9318-e5f1-408b-abb9-207820b672e2",
        "outputId": "994edb20-7f05-4c45-e8e5-0d6af6904a72"
      },
      "outputs": [
        {
          "name": "stdout",
          "output_type": "stream",
          "text": [
            "[[ 9 10 11 12]\n",
            " [ 5  6  7  8]\n",
            " [ 1  2  3  4]]\n"
          ]
        }
      ],
      "source": [
        "print(reversed_arr_rows)"
      ]
    },
    {
      "cell_type": "code",
      "execution_count": null,
      "id": "bb9ee64f-b299-405d-b4a7-10ce91ac28fd",
      "metadata": {
        "id": "bb9ee64f-b299-405d-b4a7-10ce91ac28fd"
      },
      "outputs": [],
      "source": [
        "reversed_arr_columns = np.flip(arr_2d, axis=1)"
      ]
    },
    {
      "cell_type": "code",
      "execution_count": null,
      "id": "2437e072-8451-4417-a63a-a15f97c5ecb5",
      "metadata": {
        "id": "2437e072-8451-4417-a63a-a15f97c5ecb5",
        "outputId": "7da09450-0034-4a7c-ad3c-4a430628f802"
      },
      "outputs": [
        {
          "name": "stdout",
          "output_type": "stream",
          "text": [
            "[[ 4  3  2  1]\n",
            " [ 8  7  6  5]\n",
            " [12 11 10  9]]\n"
          ]
        }
      ],
      "source": [
        "print(reversed_arr_columns)"
      ]
    },
    {
      "cell_type": "code",
      "execution_count": null,
      "id": "fc839a57-29a7-489a-9f78-af723a5b76f7",
      "metadata": {
        "id": "fc839a57-29a7-489a-9f78-af723a5b76f7"
      },
      "outputs": [],
      "source": [
        "arr_2d[1] = np.flip(arr_2d[1])"
      ]
    },
    {
      "cell_type": "code",
      "execution_count": null,
      "id": "bfde00ad-3c50-4d3b-878d-5bcf5b14dbea",
      "metadata": {
        "id": "bfde00ad-3c50-4d3b-878d-5bcf5b14dbea",
        "outputId": "bb02df9d-6119-4408-815f-7146cc1801c1"
      },
      "outputs": [
        {
          "name": "stdout",
          "output_type": "stream",
          "text": [
            "[[ 1  2  3  4]\n",
            " [ 8  7  6  5]\n",
            " [ 9 10 11 12]]\n"
          ]
        }
      ],
      "source": [
        "print(arr_2d)"
      ]
    },
    {
      "cell_type": "code",
      "execution_count": null,
      "id": "5382a94b-fcc3-48da-be50-3bbbf33af1b1",
      "metadata": {
        "id": "5382a94b-fcc3-48da-be50-3bbbf33af1b1"
      },
      "outputs": [],
      "source": [
        "arr_2d[:,1] = np.flip(arr_2d[:,1])"
      ]
    },
    {
      "cell_type": "code",
      "execution_count": null,
      "id": "5003e7c3-135d-422d-b54d-673e94f02884",
      "metadata": {
        "id": "5003e7c3-135d-422d-b54d-673e94f02884",
        "outputId": "0022be14-bb72-4234-a102-30818435b12b"
      },
      "outputs": [
        {
          "name": "stdout",
          "output_type": "stream",
          "text": [
            "[[ 1 10  3  4]\n",
            " [ 8  7  6  5]\n",
            " [ 9  2 11 12]]\n"
          ]
        }
      ],
      "source": [
        "print(arr_2d)"
      ]
    },
    {
      "cell_type": "code",
      "execution_count": null,
      "id": "419ceebe-79b8-40dc-8e61-208b43390dca",
      "metadata": {
        "id": "419ceebe-79b8-40dc-8e61-208b43390dca"
      },
      "outputs": [],
      "source": [
        "x = np.array([[1 , 2, 3, 4], [5, 6, 7, 8], [9, 10, 11, 12]])"
      ]
    },
    {
      "cell_type": "code",
      "execution_count": null,
      "id": "9fa7de75-5e3e-4e88-bc9f-05a830c465ad",
      "metadata": {
        "id": "9fa7de75-5e3e-4e88-bc9f-05a830c465ad",
        "outputId": "5c8c39b1-1ed9-4c61-b1a1-4c3dad556e35"
      },
      "outputs": [
        {
          "data": {
            "text/plain": [
              "array([ 1,  2,  3,  4,  5,  6,  7,  8,  9, 10, 11, 12])"
            ]
          },
          "execution_count": 336,
          "metadata": {},
          "output_type": "execute_result"
        }
      ],
      "source": [
        "x.flatten()"
      ]
    },
    {
      "cell_type": "code",
      "execution_count": null,
      "id": "72a6d744-e00a-46ae-8748-b52432951779",
      "metadata": {
        "id": "72a6d744-e00a-46ae-8748-b52432951779"
      },
      "outputs": [],
      "source": [
        "a1 = x.flatten()"
      ]
    },
    {
      "cell_type": "code",
      "execution_count": null,
      "id": "5b9e728d-0f71-4d38-b104-e108dd42a651",
      "metadata": {
        "id": "5b9e728d-0f71-4d38-b104-e108dd42a651"
      },
      "outputs": [],
      "source": [
        "a1[0] = 99"
      ]
    },
    {
      "cell_type": "code",
      "execution_count": null,
      "id": "8eaaf2a5-5202-4e89-bedf-65cf703f436e",
      "metadata": {
        "id": "8eaaf2a5-5202-4e89-bedf-65cf703f436e",
        "outputId": "012f7cd7-eee1-416a-d9f6-857715b95c61"
      },
      "outputs": [
        {
          "name": "stdout",
          "output_type": "stream",
          "text": [
            "[[ 1  2  3  4]\n",
            " [ 5  6  7  8]\n",
            " [ 9 10 11 12]]\n"
          ]
        }
      ],
      "source": [
        "print(x)  # Original array"
      ]
    },
    {
      "cell_type": "code",
      "execution_count": null,
      "id": "5499556e-a25a-4c63-b251-830225b7d42f",
      "metadata": {
        "id": "5499556e-a25a-4c63-b251-830225b7d42f",
        "outputId": "84da9454-ad5a-4040-e237-2d041f2a2170"
      },
      "outputs": [
        {
          "name": "stdout",
          "output_type": "stream",
          "text": [
            "[99  2  3  4  5  6  7  8  9 10 11 12]\n"
          ]
        }
      ],
      "source": [
        "print(a1)"
      ]
    },
    {
      "cell_type": "code",
      "execution_count": null,
      "id": "422644a7-d7aa-4aa2-b623-c36ede930127",
      "metadata": {
        "id": "422644a7-d7aa-4aa2-b623-c36ede930127"
      },
      "outputs": [],
      "source": [
        "a2 = x.ravel()"
      ]
    },
    {
      "cell_type": "code",
      "execution_count": null,
      "id": "e0eadd9c-4b25-47ba-a371-f53109858b31",
      "metadata": {
        "id": "e0eadd9c-4b25-47ba-a371-f53109858b31"
      },
      "outputs": [],
      "source": [
        "a2[0] = 98"
      ]
    },
    {
      "cell_type": "code",
      "execution_count": null,
      "id": "0861de4b-b963-499e-a0a8-8bd4c4699aff",
      "metadata": {
        "id": "0861de4b-b963-499e-a0a8-8bd4c4699aff",
        "outputId": "f5078de0-d326-43ba-9a36-2ac4e9b40c34"
      },
      "outputs": [
        {
          "name": "stdout",
          "output_type": "stream",
          "text": [
            "[[98  2  3  4]\n",
            " [ 5  6  7  8]\n",
            " [ 9 10 11 12]]\n"
          ]
        }
      ],
      "source": [
        "print(x)  # Original array"
      ]
    },
    {
      "cell_type": "code",
      "execution_count": null,
      "id": "014b6ffa-4790-4e08-9732-cdcd6de02507",
      "metadata": {
        "id": "014b6ffa-4790-4e08-9732-cdcd6de02507",
        "outputId": "5ab8a0f4-cae8-40d6-9803-0cfe993ee912"
      },
      "outputs": [
        {
          "name": "stdout",
          "output_type": "stream",
          "text": [
            "[98  2  3  4  5  6  7  8  9 10 11 12]\n"
          ]
        }
      ],
      "source": [
        "print(a2)"
      ]
    },
    {
      "cell_type": "code",
      "execution_count": null,
      "id": "5a0bda55-a43a-4d58-92df-7d17b1cf7431",
      "metadata": {
        "id": "5a0bda55-a43a-4d58-92df-7d17b1cf7431"
      },
      "outputs": [],
      "source": []
    },
    {
      "cell_type": "code",
      "execution_count": null,
      "id": "668247d5-a35f-484f-ae4a-43d7de19ae75",
      "metadata": {
        "id": "668247d5-a35f-484f-ae4a-43d7de19ae75"
      },
      "outputs": [],
      "source": []
    }
  ],
  "metadata": {
    "kernelspec": {
      "display_name": "Python 3 (ipykernel)",
      "language": "python",
      "name": "python3"
    },
    "language_info": {
      "codemirror_mode": {
        "name": "ipython",
        "version": 3
      },
      "file_extension": ".py",
      "mimetype": "text/x-python",
      "name": "python",
      "nbconvert_exporter": "python",
      "pygments_lexer": "ipython3",
      "version": "3.13.2"
    },
    "colab": {
      "provenance": [],
      "include_colab_link": true
    }
  },
  "nbformat": 4,
  "nbformat_minor": 5
}