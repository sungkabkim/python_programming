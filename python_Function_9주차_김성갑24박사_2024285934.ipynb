{
  "cells": [
    {
      "cell_type": "markdown",
      "metadata": {
        "id": "view-in-github",
        "colab_type": "text"
      },
      "source": [
        "<a href=\"https://colab.research.google.com/github/sungkabkim/python_programming/blob/main/python_Function_9%EC%A3%BC%EC%B0%A8_%EA%B9%80%EC%84%B1%EA%B0%9124%EB%B0%95%EC%82%AC_2024285934.ipynb\" target=\"_parent\"><img src=\"https://colab.research.google.com/assets/colab-badge.svg\" alt=\"Open In Colab\"/></a>"
      ]
    },
    {
      "cell_type": "code",
      "execution_count": null,
      "id": "0452346e-3a8c-4496-8c3d-27d551ca8024",
      "metadata": {
        "id": "0452346e-3a8c-4496-8c3d-27d551ca8024"
      },
      "outputs": [],
      "source": [
        "a = []\n",
        "for i in [1, 2, 3]:\n",
        "    a.append(i+1)"
      ]
    },
    {
      "cell_type": "code",
      "execution_count": null,
      "id": "06dfa750-3b19-4618-9f3c-9a4a91bf19f3",
      "metadata": {
        "id": "06dfa750-3b19-4618-9f3c-9a4a91bf19f3",
        "outputId": "5a87df57-a421-4eff-afba-e38b42f0eaf2"
      },
      "outputs": [
        {
          "data": {
            "text/plain": [
              "[2, 3, 4]"
            ]
          },
          "execution_count": 8,
          "metadata": {},
          "output_type": "execute_result"
        }
      ],
      "source": [
        "a"
      ]
    },
    {
      "cell_type": "code",
      "execution_count": null,
      "id": "72069cc8-06e2-48e2-b858-143411f9f92f",
      "metadata": {
        "id": "72069cc8-06e2-48e2-b858-143411f9f92f"
      },
      "outputs": [],
      "source": [
        "def calcul(i):\n",
        "    c = i*2*3+i\n",
        "    return c"
      ]
    },
    {
      "cell_type": "code",
      "execution_count": null,
      "id": "8168b977-457f-4a07-ad4b-6187cdb9e792",
      "metadata": {
        "id": "8168b977-457f-4a07-ad4b-6187cdb9e792"
      },
      "outputs": [],
      "source": [
        "b = [calcul(i) for i in [1, 2, 3]]"
      ]
    },
    {
      "cell_type": "code",
      "execution_count": null,
      "id": "d796a3ec-3095-495e-983f-bf8ace85da3d",
      "metadata": {
        "id": "d796a3ec-3095-495e-983f-bf8ace85da3d",
        "outputId": "ce2ccabf-7228-4b30-93c2-972ed24dac12"
      },
      "outputs": [
        {
          "data": {
            "text/plain": [
              "[7, 14, 21]"
            ]
          },
          "execution_count": 29,
          "metadata": {},
          "output_type": "execute_result"
        }
      ],
      "source": [
        "b"
      ]
    },
    {
      "cell_type": "code",
      "execution_count": null,
      "id": "7b921c86-58d9-4a74-aafc-9b08a702b872",
      "metadata": {
        "id": "7b921c86-58d9-4a74-aafc-9b08a702b872",
        "outputId": "3a380487-be83-4504-b56f-0bae03083653"
      },
      "outputs": [
        {
          "data": {
            "text/plain": [
              "[3]"
            ]
          },
          "execution_count": 33,
          "metadata": {},
          "output_type": "execute_result"
        }
      ],
      "source": [
        "[i+1 for i in [1, 2, 3] if i%2==0]"
      ]
    },
    {
      "cell_type": "code",
      "execution_count": null,
      "id": "4adff36e-fd9c-4a04-b020-852f858d1353",
      "metadata": {
        "id": "4adff36e-fd9c-4a04-b020-852f858d1353"
      },
      "outputs": [],
      "source": [
        "a=[]\n",
        "for i in [1, 2, 3]:\n",
        "    if i%2==0 :\n",
        "        a.append(i+1)"
      ]
    },
    {
      "cell_type": "code",
      "execution_count": null,
      "id": "1ce91a44-934b-40ae-a2a5-be3b69da05db",
      "metadata": {
        "id": "1ce91a44-934b-40ae-a2a5-be3b69da05db",
        "outputId": "85daa500-3b76-426c-c961-d72c65046fc2"
      },
      "outputs": [
        {
          "data": {
            "text/plain": [
              "[3]"
            ]
          },
          "execution_count": 35,
          "metadata": {},
          "output_type": "execute_result"
        }
      ],
      "source": [
        "a"
      ]
    },
    {
      "cell_type": "code",
      "execution_count": null,
      "id": "2ef7f1dc-5d05-4d5e-b447-5b91dceafc3c",
      "metadata": {
        "id": "2ef7f1dc-5d05-4d5e-b447-5b91dceafc3c",
        "outputId": "dfc2a241-f1e7-4b29-ce55-3c54a4b5052b"
      },
      "outputs": [
        {
          "data": {
            "text/plain": [
              "[1, 2, 3, 4, 5]"
            ]
          },
          "execution_count": 9,
          "metadata": {},
          "output_type": "execute_result"
        }
      ],
      "source": [
        "number_list"
      ]
    },
    {
      "cell_type": "code",
      "execution_count": null,
      "id": "25a80ea2-b106-4241-b03d-a36d6c6d4146",
      "metadata": {
        "id": "25a80ea2-b106-4241-b03d-a36d6c6d4146"
      },
      "outputs": [],
      "source": [
        "number_list = []\n",
        "number_list.append(1)\n",
        "number_list.append(2)\n",
        "number_list.append(3)\n",
        "number_list.append(4)\n",
        "number_list.append(5)\n"
      ]
    },
    {
      "cell_type": "code",
      "execution_count": null,
      "id": "8daf4ee8-7b4d-472f-b695-29eb3dac44a9",
      "metadata": {
        "id": "8daf4ee8-7b4d-472f-b695-29eb3dac44a9"
      },
      "outputs": [],
      "source": [
        "number_list = []\n",
        "for number in range(1, 6):\n",
        "    number_list.append(number)"
      ]
    },
    {
      "cell_type": "code",
      "execution_count": null,
      "id": "9bc60b79-26e9-47eb-a0cb-3babe7765d32",
      "metadata": {
        "id": "9bc60b79-26e9-47eb-a0cb-3babe7765d32",
        "outputId": "a9df7293-ce04-4c72-a8a9-c2b6fc476e95"
      },
      "outputs": [
        {
          "data": {
            "text/plain": [
              "range"
            ]
          },
          "execution_count": 11,
          "metadata": {},
          "output_type": "execute_result"
        }
      ],
      "source": [
        "type(range(1, 6))"
      ]
    },
    {
      "cell_type": "code",
      "execution_count": null,
      "id": "4dbf9216-2b6e-4c03-87f8-bde58b85a9f2",
      "metadata": {
        "id": "4dbf9216-2b6e-4c03-87f8-bde58b85a9f2",
        "outputId": "9144f5fb-6f2d-4469-c6e4-ee8a15ffaa73"
      },
      "outputs": [
        {
          "name": "stdout",
          "output_type": "stream",
          "text": [
            "1\n",
            "2\n",
            "3\n"
          ]
        }
      ],
      "source": [
        "for i in range(1, 4):\n",
        "    print(i)"
      ]
    },
    {
      "cell_type": "code",
      "execution_count": null,
      "id": "eb8dbdc1-26d4-4532-bc73-42a9667435a0",
      "metadata": {
        "id": "eb8dbdc1-26d4-4532-bc73-42a9667435a0",
        "outputId": "26fae865-51b2-4c28-c21c-b3efcb087487"
      },
      "outputs": [
        {
          "name": "stdout",
          "output_type": "stream",
          "text": [
            "1\n",
            "2\n",
            "3\n"
          ]
        }
      ],
      "source": [
        "for i in range(1, 4):\n",
        "    print(i)"
      ]
    },
    {
      "cell_type": "code",
      "execution_count": null,
      "id": "7acfa5fe-9973-4757-8706-8d89e1d5b236",
      "metadata": {
        "id": "7acfa5fe-9973-4757-8706-8d89e1d5b236",
        "outputId": "dd7d59e9-f86d-45a1-c3a1-3f311c1f7721"
      },
      "outputs": [
        {
          "name": "stdout",
          "output_type": "stream",
          "text": [
            "2\n",
            "3\n",
            "4\n"
          ]
        }
      ],
      "source": [
        "for i in [1, 2, 3]:\n",
        "    print(i+1)"
      ]
    },
    {
      "cell_type": "code",
      "execution_count": null,
      "id": "3149bafb-c1ae-47fe-b9bd-80a724cd29bc",
      "metadata": {
        "id": "3149bafb-c1ae-47fe-b9bd-80a724cd29bc"
      },
      "outputs": [],
      "source": [
        "a = []\n",
        "for i in [1, 2, 3]:\n",
        "    a.append(i)"
      ]
    },
    {
      "cell_type": "code",
      "execution_count": null,
      "id": "8d4171f6-a6f6-4a53-ba60-fa7452710191",
      "metadata": {
        "id": "8d4171f6-a6f6-4a53-ba60-fa7452710191",
        "outputId": "ca048369-c4c2-40fe-cf4e-d7803852ee28"
      },
      "outputs": [
        {
          "data": {
            "text/plain": [
              "[1, 2, 3]"
            ]
          },
          "execution_count": 7,
          "metadata": {},
          "output_type": "execute_result"
        }
      ],
      "source": [
        "a"
      ]
    },
    {
      "cell_type": "code",
      "execution_count": null,
      "id": "5fa19886-125e-443f-a791-522652a2f06a",
      "metadata": {
        "id": "5fa19886-125e-443f-a791-522652a2f06a"
      },
      "outputs": [],
      "source": [
        "a = [1, 2, 3]\n",
        "for i in [1, 2, 3]:\n",
        "    a.append(i+1)"
      ]
    },
    {
      "cell_type": "code",
      "execution_count": null,
      "id": "c51da5ea-a629-45a2-9c93-ddb528fa2c0b",
      "metadata": {
        "id": "c51da5ea-a629-45a2-9c93-ddb528fa2c0b",
        "outputId": "1b9741a6-4717-4a82-c9f8-c879a523bcfa"
      },
      "outputs": [
        {
          "data": {
            "text/plain": [
              "[1, 2, 3, 2, 3, 4]"
            ]
          },
          "execution_count": 11,
          "metadata": {},
          "output_type": "execute_result"
        }
      ],
      "source": [
        "a"
      ]
    },
    {
      "cell_type": "code",
      "execution_count": null,
      "id": "f2bd195c-4ece-4cc5-8fc8-17da45d36d8a",
      "metadata": {
        "id": "f2bd195c-4ece-4cc5-8fc8-17da45d36d8a",
        "outputId": "87c510e0-6817-4842-9dd4-43991430142a"
      },
      "outputs": [
        {
          "data": {
            "text/plain": [
              "[2, 3, 4]"
            ]
          },
          "execution_count": 13,
          "metadata": {},
          "output_type": "execute_result"
        }
      ],
      "source": [
        "[i+1 for i in [1, 2, 3]]"
      ]
    },
    {
      "cell_type": "code",
      "execution_count": null,
      "id": "3121e48d-7b6d-4ec5-b7ca-1a8b85b5e122",
      "metadata": {
        "id": "3121e48d-7b6d-4ec5-b7ca-1a8b85b5e122"
      },
      "outputs": [],
      "source": []
    },
    {
      "cell_type": "code",
      "execution_count": null,
      "id": "f9a17622-1a4a-4e7b-9d80-1567ae4a1b8a",
      "metadata": {
        "id": "f9a17622-1a4a-4e7b-9d80-1567ae4a1b8a"
      },
      "outputs": [],
      "source": [
        "number_list = []\n",
        "number_list.append(1)\n",
        "number_list.append(2)\n",
        "number_list.append(3)\n",
        "number_list.append(4)\n",
        "number_list.append(5)"
      ]
    },
    {
      "cell_type": "code",
      "execution_count": null,
      "id": "594a4f39-a9bc-4378-91a2-3e6ec20afa38",
      "metadata": {
        "id": "594a4f39-a9bc-4378-91a2-3e6ec20afa38",
        "outputId": "b142ba7c-4d65-406c-c307-b5e0e8752673"
      },
      "outputs": [
        {
          "data": {
            "text/plain": [
              "[0, 1, 2, 3, 4]"
            ]
          },
          "execution_count": 37,
          "metadata": {},
          "output_type": "execute_result"
        }
      ],
      "source": [
        "number_list"
      ]
    },
    {
      "cell_type": "code",
      "execution_count": null,
      "id": "a7f415b5-3bb5-497d-ba2d-83dd0f6b5fd8",
      "metadata": {
        "id": "a7f415b5-3bb5-497d-ba2d-83dd0f6b5fd8"
      },
      "outputs": [],
      "source": [
        "number_list = []\n",
        "for number in range(1, 6):\n",
        "    number_list.append(number)"
      ]
    },
    {
      "cell_type": "code",
      "execution_count": null,
      "id": "de20c78e-e093-4c31-a612-40761bcdd094",
      "metadata": {
        "id": "de20c78e-e093-4c31-a612-40761bcdd094",
        "outputId": "130cc1c2-415b-4499-91f9-21a28ad21476"
      },
      "outputs": [
        {
          "data": {
            "text/plain": [
              "[0, 1, 2, 3, 4]"
            ]
          },
          "execution_count": 38,
          "metadata": {},
          "output_type": "execute_result"
        }
      ],
      "source": [
        "number_list"
      ]
    },
    {
      "cell_type": "code",
      "execution_count": null,
      "id": "c8a06e71-eeaa-43dd-a3c0-8833d4c20d7a",
      "metadata": {
        "id": "c8a06e71-eeaa-43dd-a3c0-8833d4c20d7a",
        "outputId": "9ee591d9-c83f-4a81-a26a-da9f5142b1ea"
      },
      "outputs": [
        {
          "data": {
            "text/plain": [
              "range"
            ]
          },
          "execution_count": 39,
          "metadata": {},
          "output_type": "execute_result"
        }
      ],
      "source": [
        "type(range(1,6))"
      ]
    },
    {
      "cell_type": "code",
      "execution_count": null,
      "id": "6cfe2ae7-12fd-4923-bd8a-47bd295133c9",
      "metadata": {
        "id": "6cfe2ae7-12fd-4923-bd8a-47bd295133c9"
      },
      "outputs": [],
      "source": [
        "number_list = [number for number in range(1,6)]"
      ]
    },
    {
      "cell_type": "code",
      "execution_count": null,
      "id": "c177e8e0-16aa-45a9-a8d6-f5f0a74640ac",
      "metadata": {
        "id": "c177e8e0-16aa-45a9-a8d6-f5f0a74640ac",
        "outputId": "924e625f-bccd-4066-b28f-a2526d899b1a"
      },
      "outputs": [
        {
          "data": {
            "text/plain": [
              "[0, 1, 2, 3, 4]"
            ]
          },
          "execution_count": 42,
          "metadata": {},
          "output_type": "execute_result"
        }
      ],
      "source": [
        "number_list"
      ]
    },
    {
      "cell_type": "code",
      "execution_count": null,
      "id": "32227c3c-aefc-4f8d-aa1d-067c44c26f29",
      "metadata": {
        "id": "32227c3c-aefc-4f8d-aa1d-067c44c26f29"
      },
      "outputs": [],
      "source": [
        "number_list = [number-1 for number in range(1,6)]"
      ]
    },
    {
      "cell_type": "code",
      "execution_count": null,
      "id": "f6f40fe2-14e6-47ef-b0f6-de8a1f82b2ea",
      "metadata": {
        "id": "f6f40fe2-14e6-47ef-b0f6-de8a1f82b2ea",
        "outputId": "f2bc462c-c465-4df9-b376-2469d353b1c1"
      },
      "outputs": [
        {
          "data": {
            "text/plain": [
              "[0, 1, 2, 3, 4]"
            ]
          },
          "execution_count": 41,
          "metadata": {},
          "output_type": "execute_result"
        }
      ],
      "source": [
        "number_list"
      ]
    },
    {
      "cell_type": "code",
      "execution_count": null,
      "id": "d19b8562-8c57-4dd9-aeef-c3f69fe12cc6",
      "metadata": {
        "id": "d19b8562-8c57-4dd9-aeef-c3f69fe12cc6"
      },
      "outputs": [],
      "source": [
        "a_list = [number for number in range(1,6) if number % 2 == 1]"
      ]
    },
    {
      "cell_type": "code",
      "execution_count": null,
      "id": "b476920f-cc89-4a82-b160-afc207f747c5",
      "metadata": {
        "id": "b476920f-cc89-4a82-b160-afc207f747c5",
        "outputId": "a7b10124-892b-48b4-c607-2a83e8da5736"
      },
      "outputs": [
        {
          "data": {
            "text/plain": [
              "[0, 1, 2, 3, 4]"
            ]
          },
          "execution_count": 40,
          "metadata": {},
          "output_type": "execute_result"
        }
      ],
      "source": [
        "number_list"
      ]
    },
    {
      "cell_type": "code",
      "execution_count": null,
      "id": "3aca2460-dbbe-4d6b-bd71-bedb380a1541",
      "metadata": {
        "id": "3aca2460-dbbe-4d6b-bd71-bedb380a1541"
      },
      "outputs": [],
      "source": [
        "a_list = []\n",
        "for number in range(1,6):\n",
        "    if number%2 == 1:\n",
        "       a_list.append(number)"
      ]
    },
    {
      "cell_type": "code",
      "execution_count": null,
      "id": "c41df99f-8b8a-4499-acff-4cc82d303c6d",
      "metadata": {
        "id": "c41df99f-8b8a-4499-acff-4cc82d303c6d",
        "outputId": "2d9345d5-f812-4c79-b0cd-adcfec7f93a7"
      },
      "outputs": [
        {
          "data": {
            "text/plain": [
              "[0, 1, 2, 3, 4]"
            ]
          },
          "execution_count": 45,
          "metadata": {},
          "output_type": "execute_result"
        }
      ],
      "source": [
        "number_list"
      ]
    },
    {
      "cell_type": "code",
      "execution_count": null,
      "id": "27744494-8b5a-41f4-b09a-94e496d3da1d",
      "metadata": {
        "id": "27744494-8b5a-41f4-b09a-94e496d3da1d"
      },
      "outputs": [],
      "source": [
        "sentence = ['I' , 'Love', 'Python', 'Soooooo', 'MUCH!!!']"
      ]
    },
    {
      "cell_type": "code",
      "execution_count": null,
      "id": "6e886fb8-5c80-4f6e-8b66-0dcbb8191a6c",
      "metadata": {
        "id": "6e886fb8-5c80-4f6e-8b66-0dcbb8191a6c",
        "outputId": "f15ebc94-da07-42b9-dd6f-6c564ff21687"
      },
      "outputs": [
        {
          "data": {
            "text/plain": [
              "['i', 'love', 'python', 'sooooo', 'much!!!']"
            ]
          },
          "execution_count": 52,
          "metadata": {},
          "output_type": "execute_result"
        }
      ],
      "source": [
        "[word.lower() for word in sentence]"
      ]
    },
    {
      "cell_type": "code",
      "execution_count": null,
      "id": "ae7bc996-2fa2-4a24-8950-d063c5d1c7d4",
      "metadata": {
        "id": "ae7bc996-2fa2-4a24-8950-d063c5d1c7d4",
        "outputId": "d673c4db-1ee9-47b7-84be-240bcfd4fad4"
      },
      "outputs": [
        {
          "data": {
            "text/plain": [
              "['Soooooo', 'MUCH!!!']"
            ]
          },
          "execution_count": 57,
          "metadata": {},
          "output_type": "execute_result"
        }
      ],
      "source": [
        "[word for word in sentence if len(word) > 6]"
      ]
    },
    {
      "cell_type": "code",
      "execution_count": null,
      "id": "f88dc9cd-5e3b-417b-aa31-8125ca3730e9",
      "metadata": {
        "scrolled": true,
        "id": "f88dc9cd-5e3b-417b-aa31-8125ca3730e9",
        "outputId": "95d29515-4128-457d-9a56-8f75ac98f26b"
      },
      "outputs": [
        {
          "data": {
            "text/plain": [
              "[(0, 0, 0),\n",
              " (1, 1, 1),\n",
              " (2, 4, 8),\n",
              " (3, 9, 27),\n",
              " (4, 16, 64),\n",
              " (5, 25, 125),\n",
              " (6, 36, 216),\n",
              " (7, 49, 343),\n",
              " (8, 64, 512),\n",
              " (9, 81, 729)]"
            ]
          },
          "execution_count": 54,
          "metadata": {},
          "output_type": "execute_result"
        }
      ],
      "source": [
        "[(x, x ** 2, x ** 3) for x in range(10)]"
      ]
    },
    {
      "cell_type": "code",
      "execution_count": null,
      "id": "c9593a23-8ed3-4165-8f75-04f7a06b7c70",
      "metadata": {
        "id": "c9593a23-8ed3-4165-8f75-04f7a06b7c70",
        "outputId": "4ae61d8c-85f2-467a-e09a-c44b9dc93b72"
      },
      "outputs": [
        {
          "data": {
            "text/plain": [
              "[1, 2, 3, 4, 5, 6, 7, 8, 9]"
            ]
          },
          "execution_count": 60,
          "metadata": {},
          "output_type": "execute_result"
        }
      ],
      "source": [
        "list(range(1,10))"
      ]
    },
    {
      "cell_type": "code",
      "execution_count": null,
      "id": "325dac9c-07e8-4f21-a59b-a9b3ab9b162e",
      "metadata": {
        "id": "325dac9c-07e8-4f21-a59b-a9b3ab9b162e",
        "outputId": "749e0fab-a58b-48d4-a1a0-770cf951bb1f"
      },
      "outputs": [
        {
          "data": {
            "text/plain": [
              "['I', 'Love', 'Python', 'Sooooo', 'MUCH!!!']"
            ]
          },
          "execution_count": 55,
          "metadata": {},
          "output_type": "execute_result"
        }
      ],
      "source": [
        "sentence"
      ]
    },
    {
      "cell_type": "code",
      "execution_count": null,
      "id": "29a0e477-3cd7-4481-8e12-ab030b3feb1c",
      "metadata": {
        "id": "29a0e477-3cd7-4481-8e12-ab030b3feb1c",
        "outputId": "f45828b4-3e25-43e4-8208-2478e6116090"
      },
      "outputs": [
        {
          "name": "stdout",
          "output_type": "stream",
          "text": [
            "1 1\n",
            "1 2\n",
            "2 1\n",
            "2 2\n",
            "3 1\n",
            "3 2\n"
          ]
        }
      ],
      "source": [
        "rows = range(1,4)\n",
        "cols = range(1,3)\n",
        "for row in rows:\n",
        "    for col in cols:\n",
        "        print(row, col)"
      ]
    },
    {
      "cell_type": "code",
      "execution_count": null,
      "id": "5bc70b47-03e0-4fe7-978c-17c43908d645",
      "metadata": {
        "id": "5bc70b47-03e0-4fe7-978c-17c43908d645",
        "outputId": "df530521-5795-483f-bf9e-07100d36425b"
      },
      "outputs": [
        {
          "name": "stdout",
          "output_type": "stream",
          "text": [
            "(1, 1)\n",
            "(1, 2)\n",
            "(2, 1)\n",
            "(2, 2)\n",
            "(3, 1)\n",
            "(3, 2)\n"
          ]
        }
      ],
      "source": [
        "rows = range(1,4)\n",
        "cols = range(1,3)\n",
        "cells = [(row, col) for row in rows for col in cols]\n",
        "for cell in cells:\n",
        "    print(cell)"
      ]
    },
    {
      "cell_type": "code",
      "execution_count": null,
      "id": "947bf506-9e33-4681-ae51-dfe78a85bfb1",
      "metadata": {
        "id": "947bf506-9e33-4681-ae51-dfe78a85bfb1"
      },
      "outputs": [],
      "source": [
        "rows = range(1,4)\n",
        "cols = range(1,3)"
      ]
    },
    {
      "cell_type": "code",
      "execution_count": null,
      "id": "0a6ff6d8-ddf3-4dc5-9663-3874db7a95af",
      "metadata": {
        "id": "0a6ff6d8-ddf3-4dc5-9663-3874db7a95af",
        "outputId": "23cd194e-1b29-4229-e51c-1d102faf4df4"
      },
      "outputs": [
        {
          "name": "stdout",
          "output_type": "stream",
          "text": [
            "3 2\n"
          ]
        }
      ],
      "source": [
        "print(row, col)"
      ]
    },
    {
      "cell_type": "code",
      "execution_count": null,
      "id": "14457ec4-5047-4ba8-aa7b-df85c951ca4e",
      "metadata": {
        "id": "14457ec4-5047-4ba8-aa7b-df85c951ca4e",
        "outputId": "23816047-1951-4818-cbc7-cf279851564b"
      },
      "outputs": [
        {
          "name": "stdout",
          "output_type": "stream",
          "text": [
            "(1, 1)\n",
            "(1, 2)\n",
            "(2, 1)\n",
            "(2, 2)\n",
            "(3, 1)\n",
            "(3, 2)\n"
          ]
        }
      ],
      "source": [
        "for cell in cells:\n",
        "    print(cell)"
      ]
    },
    {
      "cell_type": "code",
      "execution_count": null,
      "id": "9b466980-bb45-4934-9595-0dc5a92aaaeb",
      "metadata": {
        "id": "9b466980-bb45-4934-9595-0dc5a92aaaeb",
        "outputId": "8e1fdd1a-4179-461f-ea8f-a5c4c70344e2"
      },
      "outputs": [
        {
          "data": {
            "text/plain": [
              "[(1, 0),\n",
              " (2, 0),\n",
              " (2, 1),\n",
              " (3, 0),\n",
              " (3, 1),\n",
              " (3, 2),\n",
              " (4, 0),\n",
              " (4, 1),\n",
              " (4, 2),\n",
              " (4, 3)]"
            ]
          },
          "execution_count": 67,
          "metadata": {},
          "output_type": "execute_result"
        }
      ],
      "source": [
        "[(i,j) for i in range(5) for j in range(i)]"
      ]
    },
    {
      "cell_type": "code",
      "execution_count": null,
      "id": "2bd7bdc6-5436-4b3a-9700-ac599ebbe625",
      "metadata": {
        "id": "2bd7bdc6-5436-4b3a-9700-ac599ebbe625",
        "outputId": "52cb0714-0fe8-4d71-c392-a8040c131f5e"
      },
      "outputs": [
        {
          "data": {
            "text/plain": [
              "{'l': 1, 'e': 2, 't': 2, 'r': 1, 's': 1}"
            ]
          },
          "execution_count": 83,
          "metadata": {},
          "output_type": "execute_result"
        }
      ],
      "source": [
        "{letter: word.count(letter) for letter in word}"
      ]
    },
    {
      "cell_type": "code",
      "execution_count": null,
      "id": "666da645-5e75-454d-baa2-6bcfa769064b",
      "metadata": {
        "id": "666da645-5e75-454d-baa2-6bcfa769064b",
        "outputId": "54726940-cd8f-4f7d-934f-2c0c5ba6fd58"
      },
      "outputs": [
        {
          "data": {
            "text/plain": [
              "{'s': 1, 'e': 2, 'r': 1, 'l': 1, 't': 2}"
            ]
          },
          "execution_count": 85,
          "metadata": {},
          "output_type": "execute_result"
        }
      ],
      "source": [
        "{letter: word.count(letter) for letter in set(word)}"
      ]
    },
    {
      "cell_type": "code",
      "execution_count": null,
      "id": "6e14e6a7-4554-484f-a04a-c43a3f08b0e5",
      "metadata": {
        "id": "6e14e6a7-4554-484f-a04a-c43a3f08b0e5",
        "outputId": "9afb4ee3-130d-43aa-91e5-1fc90e780c50"
      },
      "outputs": [
        {
          "name": "stdout",
          "output_type": "stream",
          "text": [
            "l\n",
            "e\n",
            "t\n",
            "t\n",
            "e\n",
            "r\n",
            "s\n"
          ]
        }
      ],
      "source": [
        "for letter in word:\n",
        "    print(letter)"
      ]
    },
    {
      "cell_type": "code",
      "execution_count": null,
      "id": "bc994710-d792-4b0f-811e-be1beb2b5b47",
      "metadata": {
        "id": "bc994710-d792-4b0f-811e-be1beb2b5b47",
        "outputId": "aa2a04ad-dba6-46e5-e600-d469b6193508"
      },
      "outputs": [
        {
          "data": {
            "text/plain": [
              "'LETTERS'"
            ]
          },
          "execution_count": 73,
          "metadata": {},
          "output_type": "execute_result"
        }
      ],
      "source": [
        "word.upper()"
      ]
    },
    {
      "cell_type": "code",
      "execution_count": null,
      "id": "d12abf9d-69b5-45ed-9b2e-a659ef60b799",
      "metadata": {
        "id": "d12abf9d-69b5-45ed-9b2e-a659ef60b799",
        "outputId": "1d86f292-ebf3-4dc5-a252-dbddc8f5c405"
      },
      "outputs": [
        {
          "data": {
            "text/plain": [
              "'Letters'"
            ]
          },
          "execution_count": 74,
          "metadata": {},
          "output_type": "execute_result"
        }
      ],
      "source": [
        "word.title()"
      ]
    },
    {
      "cell_type": "code",
      "execution_count": null,
      "id": "c3fabda6-1fd8-4110-84d5-1958556b992d",
      "metadata": {
        "id": "c3fabda6-1fd8-4110-84d5-1958556b992d",
        "outputId": "73d1723f-889b-4570-8941-a072c200b6c8"
      },
      "outputs": [
        {
          "data": {
            "text/plain": [
              "7"
            ]
          },
          "execution_count": 75,
          "metadata": {},
          "output_type": "execute_result"
        }
      ],
      "source": [
        "len(word)"
      ]
    },
    {
      "cell_type": "code",
      "execution_count": null,
      "id": "e1e555cf-8d29-4802-af2b-76a76b4a8593",
      "metadata": {
        "id": "e1e555cf-8d29-4802-af2b-76a76b4a8593",
        "outputId": "41245106-c30d-40a8-9b55-a12c440d95ca"
      },
      "outputs": [
        {
          "data": {
            "text/plain": [
              "2"
            ]
          },
          "execution_count": 76,
          "metadata": {},
          "output_type": "execute_result"
        }
      ],
      "source": [
        "word.count('e')"
      ]
    },
    {
      "cell_type": "code",
      "execution_count": null,
      "id": "142ef048-8834-4a46-9aac-e7bf4de37a37",
      "metadata": {
        "id": "142ef048-8834-4a46-9aac-e7bf4de37a37",
        "outputId": "8e5a89fb-610f-4f94-be03-422a46b92f21"
      },
      "outputs": [
        {
          "data": {
            "text/plain": [
              "1"
            ]
          },
          "execution_count": 77,
          "metadata": {},
          "output_type": "execute_result"
        }
      ],
      "source": [
        "word.count('tt')"
      ]
    },
    {
      "cell_type": "code",
      "execution_count": null,
      "id": "1a27b8c6-9742-4122-b668-14eb8a04c8ef",
      "metadata": {
        "id": "1a27b8c6-9742-4122-b668-14eb8a04c8ef",
        "outputId": "968da5f5-da02-4885-8a38-94c223e9f9f8"
      },
      "outputs": [
        {
          "data": {
            "text/plain": [
              "{'a', 'e', 'l', 'p'}"
            ]
          },
          "execution_count": 84,
          "metadata": {},
          "output_type": "execute_result"
        }
      ],
      "source": [
        "set('apple')"
      ]
    },
    {
      "cell_type": "code",
      "execution_count": null,
      "id": "bf5b4199-efcc-4a96-a7de-c3376c73e79a",
      "metadata": {
        "id": "bf5b4199-efcc-4a96-a7de-c3376c73e79a",
        "outputId": "331e018e-914b-4819-bc17-a9c6753ce9da"
      },
      "outputs": [
        {
          "data": {
            "text/plain": [
              "{1, 4}"
            ]
          },
          "execution_count": 87,
          "metadata": {},
          "output_type": "execute_result"
        }
      ],
      "source": [
        "{number for number in range(1,6) if number % 3 == 1}"
      ]
    },
    {
      "cell_type": "code",
      "execution_count": null,
      "id": "8d1bd6d4-d4bf-4899-a8a1-31a3860b884b",
      "metadata": {
        "id": "8d1bd6d4-d4bf-4899-a8a1-31a3860b884b",
        "outputId": "196122f1-0119-40ae-80bb-7ba0cd58e2f1"
      },
      "outputs": [
        {
          "name": "stdout",
          "output_type": "stream",
          "text": [
            "{'bob', 'Noon', 'Madam'}\n"
          ]
        }
      ],
      "source": [
        "def is_palindrome(word):\n",
        "    return word == word[::-1]\n",
        "\n",
        "hamlet = ['Madam', 'to', 'be', 'or', 'not', 'bob', 'Noon']\n",
        "result = {word for word in hamlet if is_palindrome(word.lower())}\n",
        "print(result)"
      ]
    },
    {
      "cell_type": "code",
      "execution_count": null,
      "id": "3925fd96-c340-4338-9c8a-6e209f5122aa",
      "metadata": {
        "id": "3925fd96-c340-4338-9c8a-6e209f5122aa"
      },
      "outputs": [],
      "source": [
        "def function_name(param1, param2):\n",
        "    value = do_something()\n",
        "    return value"
      ]
    },
    {
      "cell_type": "code",
      "execution_count": null,
      "id": "c89b61bc-39e6-4c7e-9898-5b553afa1c57",
      "metadata": {
        "id": "c89b61bc-39e6-4c7e-9898-5b553afa1c57"
      },
      "outputs": [],
      "source": [
        "def sum(a, b):\n",
        "    return a+b"
      ]
    },
    {
      "cell_type": "code",
      "execution_count": null,
      "id": "5e25bd8e-426b-44c8-a8a5-5f4bb0e6bff3",
      "metadata": {
        "id": "5e25bd8e-426b-44c8-a8a5-5f4bb0e6bff3"
      },
      "outputs": [],
      "source": [
        "p = sum(1,1)"
      ]
    },
    {
      "cell_type": "raw",
      "id": "6e47d8f4-8cd2-45c9-b99b-956ae10005be",
      "metadata": {
        "id": "6e47d8f4-8cd2-45c9-b99b-956ae10005be"
      },
      "source": [
        "print(p)"
      ]
    },
    {
      "cell_type": "markdown",
      "id": "a7e924d8-e049-4470-b8a2-aeed8f461fdf",
      "metadata": {
        "id": "a7e924d8-e049-4470-b8a2-aeed8f461fdf"
      },
      "source": [
        "sum(1, 2)"
      ]
    },
    {
      "cell_type": "code",
      "execution_count": null,
      "id": "9ea8a3b5-39df-473c-8c20-130219ecdb59",
      "metadata": {
        "id": "9ea8a3b5-39df-473c-8c20-130219ecdb59",
        "outputId": "a51c643d-85cb-412e-fab0-c465220ba3d8"
      },
      "outputs": [
        {
          "data": {
            "text/plain": [
              "3"
            ]
          },
          "execution_count": 97,
          "metadata": {},
          "output_type": "execute_result"
        }
      ],
      "source": [
        "sum(1, 2)"
      ]
    },
    {
      "cell_type": "code",
      "execution_count": null,
      "id": "b05f7ea6-4649-407d-9d40-a9356ffd747e",
      "metadata": {
        "id": "b05f7ea6-4649-407d-9d40-a9356ffd747e",
        "outputId": "ce1c0da5-67bf-4fb1-aeb7-63a7cca7282b"
      },
      "outputs": [
        {
          "data": {
            "text/plain": [
              "4.6"
            ]
          },
          "execution_count": 98,
          "metadata": {},
          "output_type": "execute_result"
        }
      ],
      "source": [
        "sum(1.3, 3.3)"
      ]
    },
    {
      "cell_type": "code",
      "execution_count": null,
      "id": "e78e750f-402a-443b-8840-3848580ff513",
      "metadata": {
        "id": "e78e750f-402a-443b-8840-3848580ff513",
        "outputId": "0c802ece-caca-4eac-9e59-a316a12b2635"
      },
      "outputs": [
        {
          "name": "stdout",
          "output_type": "stream",
          "text": [
            "Monday : drink coffee - eat banana - enjoy tiramisu\n",
            "Tuesday : drink tea - eat orange - enjoy ice cream\n",
            "Wednesday : drink beer - eat peach - enjoy pie\n"
          ]
        }
      ],
      "source": [
        "days = ['Monday', 'Tuesday', 'Wednesday']\n",
        "fruits = ['banana', 'orange', 'peach']\n",
        "drinks = ['coffee', 'tea', 'beer']\n",
        "desserts = ['tiramisu', 'ice cream', 'pie', 'pudding']\n",
        "\n",
        "for day, fruit, drink, dessert in zip(days, fruits, drinks, desserts):\n",
        "    print(day, \": drink\", drink, \"- eat\", fruit, \"- enjoy\", dessert)"
      ]
    },
    {
      "cell_type": "code",
      "execution_count": null,
      "id": "3dedeea5-7428-452a-8602-13e485e6f95c",
      "metadata": {
        "id": "3dedeea5-7428-452a-8602-13e485e6f95c",
        "outputId": "99ee6ee7-2070-46d6-8160-5982db481657"
      },
      "outputs": [
        {
          "data": {
            "text/plain": [
              "{'Monday': 'Lundi', 'Tuesday': 'Mardi', 'Wednesday': 'Mercredi'}"
            ]
          },
          "execution_count": 1,
          "metadata": {},
          "output_type": "execute_result"
        }
      ],
      "source": [
        "english = 'Monday', 'Tuesday', 'Wednesday'\n",
        "french = 'Lundi', 'Mardi', 'Mercredi'\n",
        "list( zip(english, french) )\n",
        "# [('Monday', 'Lundi'), ('Tuesday', 'Mardi'), ('Wednesday', 'Mercredi')]\n",
        "dict( zip(english, french) )\n",
        "# {'Monday': 'Lundi', 'Tuesday': 'Mardi', 'Wednesday': 'Mercredi'}"
      ]
    },
    {
      "cell_type": "code",
      "execution_count": null,
      "id": "207bac47-aa46-4ace-b49e-e582e5028c32",
      "metadata": {
        "id": "207bac47-aa46-4ace-b49e-e582e5028c32",
        "outputId": "7e67461d-6df9-4f5e-8c53-7f436d32682c"
      },
      "outputs": [
        {
          "data": {
            "text/plain": [
              "<zip at 0x28438a598c0>"
            ]
          },
          "execution_count": 2,
          "metadata": {},
          "output_type": "execute_result"
        }
      ],
      "source": [
        "zip(english, french)"
      ]
    },
    {
      "cell_type": "code",
      "execution_count": null,
      "id": "b086cfdd-60f8-492c-aba9-f8e6dbd78412",
      "metadata": {
        "id": "b086cfdd-60f8-492c-aba9-f8e6dbd78412",
        "outputId": "b1a9a9ab-b4af-47bd-8ea4-de8098cb114c"
      },
      "outputs": [
        {
          "data": {
            "text/plain": [
              "[('Monday', 'Lundi'), ('Tuesday', 'Mardi'), ('Wednesday', 'Mercredi')]"
            ]
          },
          "execution_count": 3,
          "metadata": {},
          "output_type": "execute_result"
        }
      ],
      "source": [
        "list(zip(english, french))"
      ]
    },
    {
      "cell_type": "code",
      "execution_count": null,
      "id": "9e107525-cbed-4199-b748-46f6a0fefc8e",
      "metadata": {
        "id": "9e107525-cbed-4199-b748-46f6a0fefc8e",
        "outputId": "beff08b7-3be2-4018-ed46-62ddb2047a9d"
      },
      "outputs": [
        {
          "data": {
            "text/plain": [
              "{'Monday': 'Lundi', 'Tuesday': 'Mardi', 'Wednesday': 'Mercredi'}"
            ]
          },
          "execution_count": 4,
          "metadata": {},
          "output_type": "execute_result"
        }
      ],
      "source": [
        "dict(zip(english, french))"
      ]
    },
    {
      "cell_type": "code",
      "execution_count": null,
      "id": "0dd1a77d-4dfc-492f-aaee-a1d671e47b2e",
      "metadata": {
        "id": "0dd1a77d-4dfc-492f-aaee-a1d671e47b2e"
      },
      "outputs": [],
      "source": [
        "def menu(wine, entree, dessert):\n",
        "    return {'wine': wine, 'entree': entree, 'dessert': dessert}"
      ]
    },
    {
      "cell_type": "code",
      "execution_count": null,
      "id": "e282179a-b02c-4321-a2f0-0d47216f61c7",
      "metadata": {
        "id": "e282179a-b02c-4321-a2f0-0d47216f61c7",
        "outputId": "b19fe49d-5e74-457a-fd88-13f972a3e826"
      },
      "outputs": [
        {
          "data": {
            "text/plain": [
              "{'wine': 'chardonnay', 'entree': 'chichen', 'dessert': 'cake'}"
            ]
          },
          "execution_count": 11,
          "metadata": {},
          "output_type": "execute_result"
        }
      ],
      "source": [
        "menu('chardonnay', 'chichen', 'cake')"
      ]
    },
    {
      "cell_type": "code",
      "execution_count": null,
      "id": "df34b29c-edba-48ac-a401-e5fe261dd053",
      "metadata": {
        "id": "df34b29c-edba-48ac-a401-e5fe261dd053",
        "outputId": "09bf14fe-1369-4b6a-ba49-42248518f8df"
      },
      "outputs": [
        {
          "data": {
            "text/plain": [
              "{'wine': 'bordeaux', 'entree': 'beef', 'dessert': 'bagel'}"
            ]
          },
          "execution_count": 12,
          "metadata": {},
          "output_type": "execute_result"
        }
      ],
      "source": [
        "menu(entree='beef', dessert='bagel', wine='bordeaux')"
      ]
    },
    {
      "cell_type": "code",
      "execution_count": null,
      "id": "354d25f5-20b0-4edb-8c0d-d9c57479ff2e",
      "metadata": {
        "id": "354d25f5-20b0-4edb-8c0d-d9c57479ff2e",
        "outputId": "ff58615a-1d67-429c-9d24-c3f3abcf0db5"
      },
      "outputs": [
        {
          "data": {
            "text/plain": [
              "{'wine': 'fronteanc', 'entree': 'fish', 'dessert': 'flan'}"
            ]
          },
          "execution_count": 13,
          "metadata": {},
          "output_type": "execute_result"
        }
      ],
      "source": [
        "menu('fronteanc', dessert='flan', entree='fish')"
      ]
    },
    {
      "cell_type": "code",
      "execution_count": null,
      "id": "f58f316f-fcf0-4009-862c-643abd7ba82b",
      "metadata": {
        "id": "f58f316f-fcf0-4009-862c-643abd7ba82b"
      },
      "outputs": [],
      "source": [
        "def menu(wine, entree, dessert='pudding'):\n",
        "    return {'wine': wine, 'entree': entree, 'dessert': dessert}"
      ]
    },
    {
      "cell_type": "code",
      "execution_count": null,
      "id": "68e481a0-50ac-4f9e-85a1-84e446bc4d12",
      "metadata": {
        "id": "68e481a0-50ac-4f9e-85a1-84e446bc4d12"
      },
      "outputs": [],
      "source": [
        "def menu(price, wine='chardonnay', entree='chicken', dessert='pudding'):\n",
        "   return {'price': price, 'wine': wine, 'entree': entree, 'dessert': dessert}"
      ]
    },
    {
      "cell_type": "code",
      "execution_count": null,
      "id": "9672f42d-bb07-42fe-aab6-1606052ca00e",
      "metadata": {
        "id": "9672f42d-bb07-42fe-aab6-1606052ca00e"
      },
      "outputs": [],
      "source": [
        "def menu(price, wine='chardonnay', entree='chicken', dessert='pudding'):\n",
        "    return {'price': price, 'wine': wine, 'entree': entree, 'dessert': dessert}"
      ]
    },
    {
      "cell_type": "code",
      "execution_count": null,
      "id": "bef2ef2f-0a1a-493f-bd20-97c38e35154c",
      "metadata": {
        "id": "bef2ef2f-0a1a-493f-bd20-97c38e35154c"
      },
      "outputs": [],
      "source": [
        "def echo(anything):\n",
        "    'echo returns its input argument'\n",
        "    return anything"
      ]
    },
    {
      "cell_type": "code",
      "execution_count": null,
      "id": "101e3907-929c-4016-8720-45a4e61fe79b",
      "metadata": {
        "id": "101e3907-929c-4016-8720-45a4e61fe79b"
      },
      "outputs": [],
      "source": [
        "def print_if_true(thing, check):\n",
        "    \"\"\"\n",
        "    Prints the first argument if a second argument is true.\n",
        "    The operation is:\n",
        "        1. Check whether the *second* argument is true.\n",
        "        2. If it is, print the *first* argument.\n",
        "    \"\"\"\n",
        "    if check:\n",
        "       print(thing)"
      ]
    },
    {
      "cell_type": "code",
      "execution_count": null,
      "id": "aec71897-cca0-455d-a43c-5dd74a7d1b29",
      "metadata": {
        "id": "aec71897-cca0-455d-a43c-5dd74a7d1b29"
      },
      "outputs": [],
      "source": [
        "print_if_true('hahahaha', False)"
      ]
    },
    {
      "cell_type": "code",
      "execution_count": null,
      "id": "d0fc3915-078e-4eb5-93a6-d316d5993a1f",
      "metadata": {
        "id": "d0fc3915-078e-4eb5-93a6-d316d5993a1f",
        "outputId": "2502e5a1-5635-44f7-d461-165a2c4501a0"
      },
      "outputs": [
        {
          "name": "stdout",
          "output_type": "stream",
          "text": [
            "hahahaha\n"
          ]
        }
      ],
      "source": [
        "print_if_true('hahahaha', 1!=3)"
      ]
    },
    {
      "cell_type": "code",
      "execution_count": null,
      "id": "2a8e28de-107d-4648-9767-59e622c0c45f",
      "metadata": {
        "scrolled": true,
        "id": "2a8e28de-107d-4648-9767-59e622c0c45f",
        "outputId": "17774166-71a3-432e-98c0-2b3353000f6a"
      },
      "outputs": [
        {
          "name": "stdout",
          "output_type": "stream",
          "text": [
            "Help on function print_if_true in module __main__:\n",
            "\n",
            "print_if_true(thing, check)\n",
            "    Prints the first argument if a second argument is true.\n",
            "    The operation is:\n",
            "        1. Check whether the *second* argument is true.\n",
            "        2. If it is, print the *first* argument.\n",
            "\n"
          ]
        }
      ],
      "source": [
        "help(print_if_true)"
      ]
    },
    {
      "cell_type": "code",
      "execution_count": null,
      "id": "149850c9-b2be-483f-be80-ae7ac718a02a",
      "metadata": {
        "id": "149850c9-b2be-483f-be80-ae7ac718a02a",
        "outputId": "5c3b9c83-3fc7-43bd-a35b-59f03deb9d02"
      },
      "outputs": [
        {
          "name": "stdout",
          "output_type": "stream",
          "text": [
            "Help on function echo in module __main__:\n",
            "\n",
            "echo(anything)\n",
            "    echo returns its input argument\n",
            "\n"
          ]
        }
      ],
      "source": [
        "def echo(anything):\n",
        "    'echo returns its input argument'\n",
        "    return anything\n",
        "\n",
        "help(echo)"
      ]
    },
    {
      "cell_type": "code",
      "execution_count": null,
      "id": "e6871cac-c1fa-4ede-b962-06240d02e19e",
      "metadata": {
        "id": "e6871cac-c1fa-4ede-b962-06240d02e19e",
        "outputId": "b2adfd81-ea0f-4a44-f635-35c1479f85eb"
      },
      "outputs": [
        {
          "name": "stdout",
          "output_type": "stream",
          "text": [
            "echo returns its input argument\n"
          ]
        }
      ],
      "source": [
        "print(echo.__doc__)"
      ]
    },
    {
      "cell_type": "code",
      "execution_count": null,
      "id": "480c11dc-ca48-44a0-9b7f-024f9d9a3b07",
      "metadata": {
        "id": "480c11dc-ca48-44a0-9b7f-024f9d9a3b07"
      },
      "outputs": [],
      "source": [
        "Package, Module, main"
      ]
    },
    {
      "cell_type": "code",
      "execution_count": null,
      "id": "75b6ccd0-a16e-4af3-900a-31bdc98f334e",
      "metadata": {
        "id": "75b6ccd0-a16e-4af3-900a-31bdc98f334e",
        "outputId": "2450cc2b-e953-434a-bef3-047dfed158b4"
      },
      "outputs": [
        {
          "data": {
            "text/plain": [
              "4.0"
            ]
          },
          "execution_count": 36,
          "metadata": {},
          "output_type": "execute_result"
        }
      ],
      "source": [
        "import math\n",
        "math.sqrt(16)"
      ]
    },
    {
      "cell_type": "code",
      "execution_count": null,
      "id": "eb4cac98-a888-4db0-8aaa-85e95fae41af",
      "metadata": {
        "id": "eb4cac98-a888-4db0-8aaa-85e95fae41af",
        "outputId": "91760276-0b13-4a16-980b-62945692ad8e"
      },
      "outputs": [
        {
          "name": "stdout",
          "output_type": "stream",
          "text": [
            "Requirement already satisfied: numpy in c:\\users\\sizip\\appdata\\local\\programs\\python\\python313\\lib\\site-packages (2.2.6)\n"
          ]
        }
      ],
      "source": [
        "!pip3 install numpy"
      ]
    },
    {
      "cell_type": "code",
      "execution_count": null,
      "id": "0f9d8646-a3b4-42fd-99fd-1657178e1727",
      "metadata": {
        "id": "0f9d8646-a3b4-42fd-99fd-1657178e1727"
      },
      "outputs": [],
      "source": [
        "import numpy as np"
      ]
    },
    {
      "cell_type": "code",
      "execution_count": null,
      "id": "79bfc3e8-ecd8-48cd-b3a5-bece98cafe40",
      "metadata": {
        "id": "79bfc3e8-ecd8-48cd-b3a5-bece98cafe40",
        "outputId": "29fcd281-7d8c-4c2a-f4e5-975b10f3fe9b"
      },
      "outputs": [
        {
          "data": {
            "text/plain": [
              "array([1, 2])"
            ]
          },
          "execution_count": 22,
          "metadata": {},
          "output_type": "execute_result"
        }
      ],
      "source": [
        "import numpy as np\n",
        "a = np.array([1, 2])\n",
        "a"
      ]
    }
  ],
  "metadata": {
    "kernelspec": {
      "display_name": "Python 3 (ipykernel)",
      "language": "python",
      "name": "python3"
    },
    "language_info": {
      "codemirror_mode": {
        "name": "ipython",
        "version": 3
      },
      "file_extension": ".py",
      "mimetype": "text/x-python",
      "name": "python",
      "nbconvert_exporter": "python",
      "pygments_lexer": "ipython3",
      "version": "3.13.2"
    },
    "colab": {
      "provenance": [],
      "include_colab_link": true
    }
  },
  "nbformat": 4,
  "nbformat_minor": 5
}