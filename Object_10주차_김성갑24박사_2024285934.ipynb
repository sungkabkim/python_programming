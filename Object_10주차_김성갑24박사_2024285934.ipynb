{
  "cells": [
    {
      "cell_type": "code",
      "execution_count": null,
      "id": "2ca4d461-1ca5-4360-8084-2ce81257a915",
      "metadata": {
        "id": "2ca4d461-1ca5-4360-8084-2ce81257a915"
      },
      "outputs": [],
      "source": [
        "result1 = 0\n",
        "result2 = 0"
      ]
    },
    {
      "cell_type": "code",
      "execution_count": null,
      "id": "5b1c2598-765c-43f8-8db1-bebf9a8ce86b",
      "metadata": {
        "id": "5b1c2598-765c-43f8-8db1-bebf9a8ce86b"
      },
      "outputs": [],
      "source": [
        "def adder1(num):\n",
        "    global result1\n",
        "    result += num  # 결괏값(result)에 입력값(num) 더하기\n",
        "    return result1  # 결괏값 리턴"
      ]
    },
    {
      "cell_type": "code",
      "execution_count": null,
      "id": "d689494b-5bf3-46f1-8f81-352e5cc3c578",
      "metadata": {
        "id": "d689494b-5bf3-46f1-8f81-352e5cc3c578"
      },
      "outputs": [],
      "source": [
        "def adder2(num):\n",
        "    global result2\n",
        "    result += num  # 결괏값(result)에 입력값(num) 더하기\n",
        "    return result2  # 결괏값 리턴\n",
        "    adder1(3)"
      ]
    },
    {
      "cell_type": "code",
      "execution_count": null,
      "id": "b81ed3db-6aff-4b00-b8ff-afd7d6fd6b15",
      "metadata": {
        "id": "b81ed3db-6aff-4b00-b8ff-afd7d6fd6b15",
        "outputId": "af6eba80-8a12-4b0f-e233-02d9698e9cc5"
      },
      "outputs": [
        {
          "name": "stdout",
          "output_type": "stream",
          "text": [
            "3\n",
            "7\n",
            "3\n",
            "123\n"
          ]
        }
      ],
      "source": [
        "class Calculator:\n",
        "    def __init__(self):\n",
        "        self.result = 0\n",
        "\n",
        "    def adder(self, num):\n",
        "        self.result += num\n",
        "        return self.result\n",
        "\n",
        "cal1 = Calculator()\n",
        "cal2 = Calculator()\n",
        "\n",
        "print(cal1.adder(3))\n",
        "print(cal1.adder(4))\n",
        "print(cal2.adder(3))\n",
        "print(cal2.adder(120))"
      ]
    },
    {
      "cell_type": "code",
      "execution_count": null,
      "id": "0ace70de-476f-4e47-90bf-a5cbfcd6c3af",
      "metadata": {
        "id": "0ace70de-476f-4e47-90bf-a5cbfcd6c3af"
      },
      "outputs": [],
      "source": [
        "class Service:\n",
        "    secret = \"지구는 4600년에 멸망한다.\""
      ]
    },
    {
      "cell_type": "code",
      "execution_count": null,
      "id": "a12b0ceb-e6ab-42bc-a1a5-f9776b577b8f",
      "metadata": {
        "id": "a12b0ceb-e6ab-42bc-a1a5-f9776b577b8f"
      },
      "outputs": [],
      "source": [
        "s = Service()"
      ]
    },
    {
      "cell_type": "code",
      "execution_count": null,
      "id": "928ca0a4-647b-4d59-a393-b487c94b1808",
      "metadata": {
        "id": "928ca0a4-647b-4d59-a393-b487c94b1808",
        "outputId": "844b3026-02d0-4c33-b73a-b2906d1bc877"
      },
      "outputs": [
        {
          "data": {
            "text/plain": [
              "'지구는 4600년에 멸망한다.'"
            ]
          },
          "execution_count": 28,
          "metadata": {},
          "output_type": "execute_result"
        }
      ],
      "source": [
        "s.secret"
      ]
    },
    {
      "cell_type": "code",
      "execution_count": null,
      "id": "8a634a5d-15af-4717-9222-40e0903a46ba",
      "metadata": {
        "id": "8a634a5d-15af-4717-9222-40e0903a46ba"
      },
      "outputs": [],
      "source": [
        "s2 = Service()"
      ]
    },
    {
      "cell_type": "code",
      "execution_count": null,
      "id": "333ddb84-b725-4ddc-b412-918e899b3ce5",
      "metadata": {
        "id": "333ddb84-b725-4ddc-b412-918e899b3ce5",
        "outputId": "29210bc1-7f89-4549-e852-9add36781c6a"
      },
      "outputs": [
        {
          "data": {
            "text/plain": [
              "'지구는 4600년에 멸망한다.'"
            ]
          },
          "execution_count": 30,
          "metadata": {},
          "output_type": "execute_result"
        }
      ],
      "source": [
        "s2.secret"
      ]
    },
    {
      "cell_type": "code",
      "execution_count": null,
      "id": "0e9314fa-ed81-4c2d-9601-432cdbfbf2e0",
      "metadata": {
        "id": "0e9314fa-ed81-4c2d-9601-432cdbfbf2e0",
        "outputId": "5e78e049-e734-47dc-e3f3-c408ae31eecb"
      },
      "outputs": [
        {
          "data": {
            "text/plain": [
              "'지구는 4600년에 멸망한다.'"
            ]
          },
          "execution_count": 32,
          "metadata": {},
          "output_type": "execute_result"
        }
      ],
      "source": [
        "Service.secret"
      ]
    },
    {
      "cell_type": "code",
      "execution_count": null,
      "id": "4c9b7702-5f2c-48d5-9ac3-b984f2800400",
      "metadata": {
        "id": "4c9b7702-5f2c-48d5-9ac3-b984f2800400"
      },
      "outputs": [],
      "source": [
        "class Service:\n",
        "    secret = \"지구는 4600년에 멸망한다\"\n",
        "    def sum(self, a, b):\n",
        "        result = a+b\n",
        "        print(\"%s + %s = %s이다.\" % (a, b, result))"
      ]
    },
    {
      "cell_type": "code",
      "execution_count": null,
      "id": "9e6e0293-8e69-47a1-9863-d23d5425f37a",
      "metadata": {
        "id": "9e6e0293-8e69-47a1-9863-d23d5425f37a"
      },
      "outputs": [],
      "source": [
        "an = Service()"
      ]
    },
    {
      "cell_type": "code",
      "execution_count": null,
      "id": "77f6b51c-f8b2-4ef9-8a5b-edf8d6bccb6e",
      "metadata": {
        "id": "77f6b51c-f8b2-4ef9-8a5b-edf8d6bccb6e",
        "outputId": "f752df75-5f1d-4923-d769-943892bcbd38"
      },
      "outputs": [
        {
          "name": "stdout",
          "output_type": "stream",
          "text": [
            "1 + 1 = 2이다.\n"
          ]
        }
      ],
      "source": [
        "an.sum(1,1)"
      ]
    },
    {
      "cell_type": "code",
      "execution_count": null,
      "id": "e26d8b15-f07e-4e0f-a5b1-50b07e143360",
      "metadata": {
        "id": "e26d8b15-f07e-4e0f-a5b1-50b07e143360"
      },
      "outputs": [],
      "source": [
        "class Service:\n",
        "    secret = \"지구는 4600년에 멸망한다\"\n",
        "    def setname(self, name):\n",
        "        self.name = name\n",
        "    def sum(self, a, b):\n",
        "        result = a+b\n",
        "        print(\"%s님, %s + %s = %s이다.\" % (self.name, a, b, result))"
      ]
    },
    {
      "cell_type": "code",
      "execution_count": null,
      "id": "bf3b2d25-88e4-458b-afbf-dfef1f42b33d",
      "metadata": {
        "id": "bf3b2d25-88e4-458b-afbf-dfef1f42b33d"
      },
      "outputs": [],
      "source": [
        "an = Service()"
      ]
    },
    {
      "cell_type": "code",
      "execution_count": null,
      "id": "3f22db0f-12fa-4bc1-91df-9712a25b47af",
      "metadata": {
        "id": "3f22db0f-12fa-4bc1-91df-9712a25b47af"
      },
      "outputs": [],
      "source": [
        "an.setname(\"박달도사\")"
      ]
    },
    {
      "cell_type": "code",
      "execution_count": null,
      "id": "ecf16323-abfb-48d0-8d6a-5a96577cde68",
      "metadata": {
        "id": "ecf16323-abfb-48d0-8d6a-5a96577cde68",
        "outputId": "35b4aad2-3827-4019-8d39-313fdc90cba7"
      },
      "outputs": [
        {
          "name": "stdout",
          "output_type": "stream",
          "text": [
            "박달도사님, 1 + 1 = 2이다.\n"
          ]
        }
      ],
      "source": [
        "an.sum(1, 1)"
      ]
    },
    {
      "cell_type": "code",
      "execution_count": null,
      "id": "e16b82b8-0da2-4ef1-8d24-e36991341310",
      "metadata": {
        "id": "e16b82b8-0da2-4ef1-8d24-e36991341310"
      },
      "outputs": [],
      "source": [
        "lee = Service()"
      ]
    },
    {
      "cell_type": "code",
      "execution_count": null,
      "id": "787a4b65-a277-4f29-aed0-55c94fe9a95e",
      "metadata": {
        "id": "787a4b65-a277-4f29-aed0-55c94fe9a95e"
      },
      "outputs": [],
      "source": [
        "class Service:\n",
        "    secret = \"지구는 4600년에 멸망한다\"\n",
        "    def __init__(self, name):\n",
        "        self.name = name\n",
        "    def sum(self, a, b):\n",
        "        result = a+b\n",
        "        print(\"%s님, %s + %s = %s이다.\" % (self.name, a, b, result))"
      ]
    },
    {
      "cell_type": "code",
      "execution_count": null,
      "id": "0c982c6d-724c-43b9-9a77-fad0075f5455",
      "metadata": {
        "id": "0c982c6d-724c-43b9-9a77-fad0075f5455"
      },
      "outputs": [],
      "source": [
        "an = Service(\"김성갑\")"
      ]
    },
    {
      "cell_type": "code",
      "execution_count": null,
      "id": "7403f151-b5a9-479f-9ee5-7022cf38eb96",
      "metadata": {
        "id": "7403f151-b5a9-479f-9ee5-7022cf38eb96",
        "outputId": "f3ab1153-9d74-471a-864f-027da6f930ee"
      },
      "outputs": [
        {
          "name": "stdout",
          "output_type": "stream",
          "text": [
            "김성갑님, 1 + 1 = 2이다.\n"
          ]
        }
      ],
      "source": [
        "an.sum(1, 1)"
      ]
    },
    {
      "cell_type": "code",
      "execution_count": null,
      "id": "d7b9fd9f-2081-4e83-b75d-47dd25bd5e2b",
      "metadata": {
        "id": "d7b9fd9f-2081-4e83-b75d-47dd25bd5e2b",
        "outputId": "76135fbb-107b-4394-cea4-3a4c2b031c65"
      },
      "outputs": [
        {
          "name": "stdout",
          "output_type": "stream",
          "text": [
            "김성갑님, 100 + 200 = 300이다.\n"
          ]
        }
      ],
      "source": [
        "an.sum(100, 200)"
      ]
    },
    {
      "cell_type": "code",
      "execution_count": null,
      "id": "825cfad2-763f-4ee6-92ed-30f5b5ba61f8",
      "metadata": {
        "id": "825cfad2-763f-4ee6-92ed-30f5b5ba61f8"
      },
      "outputs": [],
      "source": [
        "class FourCal:\n",
        "    pass"
      ]
    },
    {
      "cell_type": "code",
      "execution_count": null,
      "id": "199f6a76-03e8-47e3-8721-bbce4ef1a428",
      "metadata": {
        "id": "199f6a76-03e8-47e3-8721-bbce4ef1a428"
      },
      "outputs": [],
      "source": [
        "a = FourCal()"
      ]
    },
    {
      "cell_type": "code",
      "execution_count": null,
      "id": "b87d98f1-ad61-4b35-a866-1532978629df",
      "metadata": {
        "id": "b87d98f1-ad61-4b35-a866-1532978629df",
        "outputId": "6f49cb13-40a4-44f3-e856-750d8d981ce7"
      },
      "outputs": [
        {
          "name": "stdout",
          "output_type": "stream",
          "text": [
            "<class '__main__.FourCal'>\n"
          ]
        }
      ],
      "source": [
        "print(type(a))"
      ]
    },
    {
      "cell_type": "code",
      "execution_count": null,
      "id": "bec66114-e8e6-4e0b-ae76-92b953a39237",
      "metadata": {
        "id": "bec66114-e8e6-4e0b-ae76-92b953a39237",
        "outputId": "33c125e3-a171-4ee5-f504-513d93d2a60e"
      },
      "outputs": [
        {
          "data": {
            "text/plain": [
              "__main__.FourCal"
            ]
          },
          "execution_count": 51,
          "metadata": {},
          "output_type": "execute_result"
        }
      ],
      "source": [
        "type(a)"
      ]
    },
    {
      "cell_type": "code",
      "execution_count": null,
      "id": "bba119db-40e8-42b7-a224-093814d257e1",
      "metadata": {
        "id": "bba119db-40e8-42b7-a224-093814d257e1"
      },
      "outputs": [],
      "source": [
        "class FourCal:\n",
        "    def setdata(self, first, second):\n",
        "        self.first = first\n",
        "        self.second = second\n",
        "    def sum(self):\n",
        "        result = self.first + self.second\n",
        "        return result\n",
        "    def mul(self):\n",
        "        result = self.first * self.second\n",
        "        return result\n",
        "    def sub(self):\n",
        "        result = self.first - self.second\n",
        "        return result\n",
        "    def div(self):\n",
        "        result = self.first / self.second\n",
        "        return result"
      ]
    },
    {
      "cell_type": "code",
      "execution_count": null,
      "id": "80bdbfb2-6a9a-4351-b9cb-a380ec6042f8",
      "metadata": {
        "id": "80bdbfb2-6a9a-4351-b9cb-a380ec6042f8"
      },
      "outputs": [],
      "source": [
        "a = FourCal()"
      ]
    },
    {
      "cell_type": "code",
      "execution_count": null,
      "id": "347e50d1-ba2a-4834-b879-7aa4b4d899d3",
      "metadata": {
        "id": "347e50d1-ba2a-4834-b879-7aa4b4d899d3"
      },
      "outputs": [],
      "source": [
        "b = FourCal()"
      ]
    },
    {
      "cell_type": "code",
      "execution_count": null,
      "id": "f024d69c-7723-4a87-901b-39259cce48f5",
      "metadata": {
        "id": "f024d69c-7723-4a87-901b-39259cce48f5"
      },
      "outputs": [],
      "source": [
        "a.setdata(4, 2)"
      ]
    },
    {
      "cell_type": "code",
      "execution_count": null,
      "id": "bce4cb06-0c8e-4d73-ba66-ee8a347b41d7",
      "metadata": {
        "id": "bce4cb06-0c8e-4d73-ba66-ee8a347b41d7"
      },
      "outputs": [],
      "source": [
        "b.setdata(3, 7)"
      ]
    },
    {
      "cell_type": "code",
      "execution_count": null,
      "id": "ea6d6021-d27a-46a2-87b5-1bbdc5540917",
      "metadata": {
        "id": "ea6d6021-d27a-46a2-87b5-1bbdc5540917",
        "outputId": "2ee9fca3-ba7d-4c99-a7cd-87c14c135fda"
      },
      "outputs": [
        {
          "data": {
            "text/plain": [
              "4"
            ]
          },
          "execution_count": 86,
          "metadata": {},
          "output_type": "execute_result"
        }
      ],
      "source": [
        "a.first"
      ]
    },
    {
      "cell_type": "code",
      "execution_count": null,
      "id": "27ee5c33-0fb2-4ca2-8655-7c29e074e8d4",
      "metadata": {
        "id": "27ee5c33-0fb2-4ca2-8655-7c29e074e8d4",
        "outputId": "ecebf690-1070-4b8c-b063-2dc5e3ac2c8a"
      },
      "outputs": [
        {
          "data": {
            "text/plain": [
              "2"
            ]
          },
          "execution_count": 87,
          "metadata": {},
          "output_type": "execute_result"
        }
      ],
      "source": [
        "a.second"
      ]
    },
    {
      "cell_type": "code",
      "execution_count": null,
      "id": "8aa3de27-9616-4c6f-bb6e-70eb4bd8fee3",
      "metadata": {
        "id": "8aa3de27-9616-4c6f-bb6e-70eb4bd8fee3",
        "outputId": "3aa4341a-2283-4ceb-9e5d-4f2ca47da7de"
      },
      "outputs": [
        {
          "name": "stdout",
          "output_type": "stream",
          "text": [
            "6\n"
          ]
        }
      ],
      "source": [
        "print(a.sum())"
      ]
    },
    {
      "cell_type": "code",
      "execution_count": null,
      "id": "d8d6ba6c-1f5d-4810-a3e8-3edb8d481d06",
      "metadata": {
        "id": "d8d6ba6c-1f5d-4810-a3e8-3edb8d481d06",
        "outputId": "f0e41d9c-52a5-448a-cc89-11eb21dcab57"
      },
      "outputs": [
        {
          "data": {
            "text/plain": [
              "2"
            ]
          },
          "execution_count": 89,
          "metadata": {},
          "output_type": "execute_result"
        }
      ],
      "source": [
        "a.sub()"
      ]
    },
    {
      "cell_type": "code",
      "execution_count": null,
      "id": "8cc164ea-1f59-4df8-96b3-750c5588e100",
      "metadata": {
        "id": "8cc164ea-1f59-4df8-96b3-750c5588e100",
        "outputId": "f29ed8c0-fda8-4b3a-c2dc-3f2cba2d908b"
      },
      "outputs": [
        {
          "data": {
            "text/plain": [
              "8"
            ]
          },
          "execution_count": 90,
          "metadata": {},
          "output_type": "execute_result"
        }
      ],
      "source": [
        "a.mul()"
      ]
    },
    {
      "cell_type": "code",
      "execution_count": null,
      "id": "a1a0a956-c4fd-4854-a2ef-8f17fe87735e",
      "metadata": {
        "id": "a1a0a956-c4fd-4854-a2ef-8f17fe87735e",
        "outputId": "8ede3969-1132-446f-e360-7d61d02bc364"
      },
      "outputs": [
        {
          "data": {
            "text/plain": [
              "2.0"
            ]
          },
          "execution_count": 91,
          "metadata": {},
          "output_type": "execute_result"
        }
      ],
      "source": [
        "a.div()"
      ]
    },
    {
      "cell_type": "code",
      "execution_count": null,
      "id": "dc288044-a9d2-4ecd-842a-6900852f9510",
      "metadata": {
        "id": "dc288044-a9d2-4ecd-842a-6900852f9510",
        "outputId": "6dcad779-f884-415f-d77e-469f200c056a"
      },
      "outputs": [
        {
          "data": {
            "text/plain": [
              "0.42857142857142855"
            ]
          },
          "execution_count": 94,
          "metadata": {},
          "output_type": "execute_result"
        }
      ],
      "source": [
        "b.div()"
      ]
    },
    {
      "cell_type": "code",
      "execution_count": null,
      "id": "e36c8f1e-09e7-431a-bf51-34c16a8c5d66",
      "metadata": {
        "id": "e36c8f1e-09e7-431a-bf51-34c16a8c5d66",
        "outputId": "73394942-fe36-427d-90eb-09ef29429654"
      },
      "outputs": [
        {
          "data": {
            "text/plain": [
              "-4"
            ]
          },
          "execution_count": 95,
          "metadata": {},
          "output_type": "execute_result"
        }
      ],
      "source": [
        "b.sub()"
      ]
    },
    {
      "cell_type": "code",
      "execution_count": null,
      "id": "bf329f05-0250-4119-b19b-3a17d1414c78",
      "metadata": {
        "scrolled": true,
        "id": "bf329f05-0250-4119-b19b-3a17d1414c78",
        "outputId": "f399c7a2-4e1a-41ab-9a0b-1a425669d335"
      },
      "outputs": [
        {
          "name": "stdout",
          "output_type": "stream",
          "text": [
            "Player 1 rolled[5, 3, 6]\n",
            "Player 2 rolled[1, 2, 6]\n",
            "Player 1 wins\n"
          ]
        }
      ],
      "source": [
        "import random\n",
        "player1_dice = []\n",
        "player2_dice = []\n",
        "\n",
        "for i in range(3) :\n",
        "    player1_dice.append(random.randint(1, 6))\n",
        "    player2_dice.append(random.randint(1, 6))\n",
        "\n",
        "print(\"Player 1 rolled\" + str(player1_dice))\n",
        "print(\"Player 2 rolled\" + str(player2_dice))\n",
        "\n",
        "if sum(player1_dice) == sum(player2_dice) :\n",
        "    print(\"Draw\")\n",
        "elif sum(player1_dice) > sum(player2_dice) :\n",
        "    print(\"Player 1 wins\")\n",
        "else:\n",
        "    print(\"Player 2 wins\")"
      ]
    },
    {
      "cell_type": "code",
      "execution_count": null,
      "id": "da751693-50fb-4395-829f-2cf4a58ff194",
      "metadata": {
        "id": "da751693-50fb-4395-829f-2cf4a58ff194"
      },
      "outputs": [],
      "source": [
        "class Customer(object):\n",
        "    def __init__(self, name):\n",
        "        self.name = name\n",
        "    def set_balance(self, balance=0.0):\n",
        "        self.balance = balance\n",
        "    def withdraw(self, amount):\n",
        "        if amount > self.balance:\n",
        "            raise RuntimeError('Amount greater than available balance.')\n",
        "        self.balance -= amount\n",
        "        return self.balance\n",
        "    def deposit(self, amount):\n",
        "        self.balance += amount\n",
        "        return self.balance"
      ]
    },
    {
      "cell_type": "code",
      "execution_count": null,
      "id": "3a681acf-df1e-48e5-b8da-85ed6be9c8aa",
      "metadata": {
        "id": "3a681acf-df1e-48e5-b8da-85ed6be9c8aa"
      },
      "outputs": [],
      "source": [
        "c = Customer(\"김성갑\")"
      ]
    },
    {
      "cell_type": "code",
      "execution_count": null,
      "id": "cd1e47fc-d6b9-4f37-b2be-b7874aa1a01b",
      "metadata": {
        "id": "cd1e47fc-d6b9-4f37-b2be-b7874aa1a01b",
        "outputId": "f8ac6abd-827a-45c5-e9fd-e5974c4f899a"
      },
      "outputs": [
        {
          "name": "stdout",
          "output_type": "stream",
          "text": [
            "입금후 잔액: 1500\n",
            "출금후 잔액: 1300\n"
          ]
        },
        {
          "ename": "RuntimeError",
          "evalue": "Amount greater than available balance.",
          "output_type": "error",
          "traceback": [
            "\u001b[31m---------------------------------------------------------------------------\u001b[39m",
            "\u001b[31mRuntimeError\u001b[39m                              Traceback (most recent call last)",
            "\u001b[36mCell\u001b[39m\u001b[36m \u001b[39m\u001b[32mIn[108]\u001b[39m\u001b[32m, line 4\u001b[39m\n\u001b[32m      2\u001b[39m \u001b[38;5;28mprint\u001b[39m(\u001b[33m\"\u001b[39m\u001b[33m입금후 잔액:\u001b[39m\u001b[33m\"\u001b[39m, c.deposit(\u001b[32m500\u001b[39m))      \n\u001b[32m      3\u001b[39m \u001b[38;5;28mprint\u001b[39m(\u001b[33m\"\u001b[39m\u001b[33m출금후 잔액:\u001b[39m\u001b[33m\"\u001b[39m, c.withdraw(\u001b[32m200\u001b[39m))     \n\u001b[32m----> \u001b[39m\u001b[32m4\u001b[39m \u001b[38;5;28mprint\u001b[39m(\u001b[33m\"\u001b[39m\u001b[33m2차 출금후 잔액:\u001b[39m\u001b[33m\"\u001b[39m, \u001b[43mc\u001b[49m\u001b[43m.\u001b[49m\u001b[43mwithdraw\u001b[49m\u001b[43m(\u001b[49m\u001b[32;43m2000\u001b[39;49m\u001b[43m)\u001b[49m)     \n",
            "\u001b[36mCell\u001b[39m\u001b[36m \u001b[39m\u001b[32mIn[101]\u001b[39m\u001b[32m, line 8\u001b[39m, in \u001b[36mCustomer.withdraw\u001b[39m\u001b[34m(self, amount)\u001b[39m\n\u001b[32m      6\u001b[39m \u001b[38;5;28;01mdef\u001b[39;00m\u001b[38;5;250m \u001b[39m\u001b[34mwithdraw\u001b[39m(\u001b[38;5;28mself\u001b[39m, amount):\n\u001b[32m      7\u001b[39m     \u001b[38;5;28;01mif\u001b[39;00m amount > \u001b[38;5;28mself\u001b[39m.balance:\n\u001b[32m----> \u001b[39m\u001b[32m8\u001b[39m         \u001b[38;5;28;01mraise\u001b[39;00m \u001b[38;5;167;01mRuntimeError\u001b[39;00m(\u001b[33m'\u001b[39m\u001b[33mAmount greater than available balance.\u001b[39m\u001b[33m'\u001b[39m)\n\u001b[32m      9\u001b[39m     \u001b[38;5;28mself\u001b[39m.balance -= amount\n\u001b[32m     10\u001b[39m     \u001b[38;5;28;01mreturn\u001b[39;00m \u001b[38;5;28mself\u001b[39m.balance\n",
            "\u001b[31mRuntimeError\u001b[39m: Amount greater than available balance."
          ]
        }
      ],
      "source": [
        "c.set_balance(1000)\n",
        "print(\"입금후 잔액:\", c.deposit(500))\n",
        "print(\"출금후 잔액:\", c.withdraw(200))\n",
        "print(\"2차 출금후 잔액:\", c.withdraw(2000))"
      ]
    },
    {
      "cell_type": "code",
      "execution_count": null,
      "id": "844a8565-9bbe-42da-9d7a-902109773574",
      "metadata": {
        "id": "844a8565-9bbe-42da-9d7a-902109773574"
      },
      "outputs": [],
      "source": []
    }
  ],
  "metadata": {
    "kernelspec": {
      "display_name": "Python 3 (ipykernel)",
      "language": "python",
      "name": "python3"
    },
    "language_info": {
      "codemirror_mode": {
        "name": "ipython",
        "version": 3
      },
      "file_extension": ".py",
      "mimetype": "text/x-python",
      "name": "python",
      "nbconvert_exporter": "python",
      "pygments_lexer": "ipython3",
      "version": "3.13.2"
    },
    "colab": {
      "provenance": []
    }
  },
  "nbformat": 4,
  "nbformat_minor": 5
}